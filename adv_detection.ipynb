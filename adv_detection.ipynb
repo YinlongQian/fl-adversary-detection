{
 "cells": [
  {
   "cell_type": "code",
   "execution_count": null,
   "metadata": {
    "id": "l6s3cN3xeHKX"
   },
   "outputs": [],
   "source": [
    "%matplotlib inline\n",
    "\n",
    "import torch\n",
    "import torchvision\n",
    "from torch.utils.data.dataset import Dataset\n",
    "from torchvision import datasets, transforms\n",
    "from torch.utils.data import DataLoader\n",
    "\n",
    "import numpy as np\n",
    "import matplotlib.pyplot as plt\n",
    "import random\n",
    "from collections import defaultdict\n",
    "\n",
    "from data_utils import CustomImageDataset, split_image_data\n",
    "from data_utils import get_default_data_transforms\n",
    "from models import ConvNet\n",
    "from fl_devices import Server, Client\n",
    "from helper import ExperimentLogger, display_train_stats\n",
    "\n",
    "from sklearn.cluster import AgglomerativeClustering, DBSCAN\n",
    "from sklearn.metrics import pairwise_distances\n",
    "from sklearn.metrics import f1_score\n",
    "from sklearn.decomposition import PCA\n",
    "\n",
    "\n",
    "torch.manual_seed(0)\n",
    "random.seed(0)\n",
    "np.random.seed(0)\n",
    "\n",
    "device = \"cuda\" if torch.cuda.is_available() else \"cpu\""
   ]
  },
  {
   "cell_type": "code",
   "execution_count": null,
   "metadata": {
    "id": "L7IeGCipeHKb"
   },
   "outputs": [],
   "source": [
    "# helper functions\n",
    "\n",
    "# detect_adv_idx: adverary indices detected by server\n",
    "# gt_adv_idx: ground-truth indices\n",
    "def check_detect(detect_adv_idx, gt_adv_idx):\n",
    "    intersection = [idx for idx in gt_adv_idx if idx in detect_adv_idx]\n",
    "    if len(intersection) > 0:\n",
    "        return True\n",
    "    else:\n",
    "        return False\n",
    "    \n",
    "# feature_matrix:\n",
    "# each row is flatten dWs from a client\n",
    "def generate_feature_matrix(dW_dicts):\n",
    "    with torch.no_grad():\n",
    "        rows = []\n",
    "        \n",
    "        for dW_dict in dW_dicts:\n",
    "            row = torch.empty(0).to(device)\n",
    "            for key, value in dW_dict.items():\n",
    "                row = torch.cat((row, value.flatten()), 0)\n",
    "            rows.append(row)\n",
    "            \n",
    "        matrix = torch.stack(rows, 0)\n",
    "        if device is \"cpu\":\n",
    "            return matrix.numpy()\n",
    "        else:\n",
    "            return matrix.cpu().numpy()\n",
    "        \n",
    "def print_labels(labels):\n",
    "    string = []\n",
    "    for idx, label in enumerate(labels):\n",
    "        string.append(str(idx)+': '+str(label))\n",
    "    print('\\t'.join(string))\n",
    "    \n",
    "def print_outliers(labels):\n",
    "    outlier_idx = np.argwhere(labels == -1).flatten()\n",
    "    print(outlier_idx)\n",
    "    \n",
    "def print_distance(feature_matrix, metric):\n",
    "    distance = pairwise_distances(feature_matrix,metric=metirc)\n",
    "    return distance "
   ]
  },
  {
   "cell_type": "code",
   "execution_count": null,
   "metadata": {
    "id": "8Tu6DnrMeHKc"
   },
   "outputs": [],
   "source": [
    "# hyperparameters\n",
    "N_CLIENT = 25\n",
    "N_ADV_RANDOM = 3\n",
    "N_ADV_OPP = 0\n",
    "N_ADV_SWAP = 0"
   ]
  },
  {
   "cell_type": "code",
   "execution_count": null,
   "metadata": {
    "colab": {
     "base_uri": "https://localhost:8080/"
    },
    "id": "tYsl3QEVeHKc",
    "outputId": "c9c09033-2acf-4195-c0b3-3af60e50e7b5"
   },
   "outputs": [],
   "source": [
    "# data = datasets.EMNIST(root=\"./\", split=\"byclass\",download=True)\n",
    "data = datasets.MNIST(root='./',download=True)"
   ]
  },
  {
   "cell_type": "code",
   "execution_count": null,
   "metadata": {
    "colab": {
     "base_uri": "https://localhost:8080/"
    },
    "id": "Z6T-CX8oeHKc",
    "outputId": "d3f5a1e0-6151-4d7e-d440-9ea9a9762695"
   },
   "outputs": [],
   "source": [
    "## It seems that data.train_data and data.test_data are the same\n",
    "## small data for fast training \n",
    "train_frac = 0.2\n",
    "test_frac = 0.2 \n",
    "train_num = int(train_frac * len(data))\n",
    "test_num = int(test_frac * len(data))\n",
    "idcs = np.random.permutation(len(data))\n",
    "train_idcs, test_idcs = idcs[:train_num], idcs[train_num:train_num + test_num]\n",
    "train_labels = data.train_labels.numpy()"
   ]
  },
  {
   "cell_type": "code",
   "execution_count": null,
   "metadata": {
    "colab": {
     "base_uri": "https://localhost:8080/"
    },
    "id": "vIVsk_H_eHKd",
    "outputId": "39f09141-2641-463e-c349-0f8a6155aae5"
   },
   "outputs": [],
   "source": [
    "clients_split = split_image_data(data.train_data[train_idcs], train_labels[train_idcs], n_clients=N_CLIENT, classes_per_client=5,balancedness=1)"
   ]
  },
  {
   "cell_type": "code",
   "execution_count": null,
   "metadata": {
    "colab": {
     "base_uri": "https://localhost:8080/"
    },
    "id": "E_68rX9oeHKd",
    "outputId": "aa435de6-4090-41c7-9c5d-9b9607163ff7"
   },
   "outputs": [],
   "source": [
    "train_trans, val_trans = get_default_data_transforms(\"EMNIST\")\n",
    "client_data = [CustomImageDataset(clients_split[i][0].to(torch.float32), clients_split[i][1],transforms=train_trans ) for i in range(len(clients_split))]"
   ]
  },
  {
   "cell_type": "code",
   "execution_count": null,
   "metadata": {
    "colab": {
     "base_uri": "https://localhost:8080/"
    },
    "id": "Vcff9mpteHKe",
    "outputId": "963b66c9-55de-49db-ab99-52c9530bee78"
   },
   "outputs": [],
   "source": [
    "test_data = data.test_data[train_num:train_num+test_num]\n",
    "test_labels = train_labels[train_num:train_num+test_num]\n",
    "test_data = CustomImageDataset(test_data.to(torch.float32), test_labels, transforms=val_trans)"
   ]
  },
  {
   "cell_type": "code",
   "execution_count": null,
   "metadata": {
    "colab": {
     "base_uri": "https://localhost:8080/"
    },
    "id": "F2n3J1xSeHKe",
    "outputId": "c64f805f-b580-488d-bc39-3e711a7656f8"
   },
   "outputs": [],
   "source": [
    "# Assign client modes\n",
    "clients = [Client(ConvNet, lambda x : torch.optim.SGD(x, lr=0.1, momentum=0.9), client_data[i], idnum=i) \n",
    "           for i, dat in enumerate(client_data)]\n",
    "client_indx = np.random.permutation(len(clients))\n",
    "offset = 0\n",
    "adv_random = client_indx[0:N_ADV_RANDOM]\n",
    "offset += N_ADV_RANDOM\n",
    "adv_opp = client_indx[offset:offset + N_ADV_OPP]\n",
    "offset += N_ADV_OPP\n",
    "adv_swap = client_indx[offset:offset+N_ADV_SWAP]\n",
    "offset += N_ADV_SWAP\n",
    "adv_idx = np.concatenate((adv_random,adv_opp,adv_swap)).tolist()\n",
    "for i in adv_random:\n",
    "  clients[i].client_mode = 'random'\n",
    "\n",
    "for i in adv_opp:\n",
    "  clients[i].client_mode = 'opposite'\n",
    "\n",
    "for i in adv_swap:\n",
    "  clients[i].client_mode = 'swap'\n",
    "\n",
    "# print out each client and its mode\n",
    "for idx, client in enumerate(clients):\n",
    "  print('{}: {}'.format(idx, client.client_mode))\n",
    "\n",
    "server = Server(ConvNet, test_data)"
   ]
  },
  {
   "cell_type": "code",
   "execution_count": null,
   "metadata": {
    "id": "04NMEiB9eHKe"
   },
   "outputs": [],
   "source": [
    "# hyperparemeters\n",
    "TOTAL_ROUND = 20\n",
    "\n",
    "esp = 2.0\n",
    "min_samples =2\n",
    "metric = 'l2'\n",
    "cfl_stats = ExperimentLogger()\n",
    "#counter_key = (esp, min_samples, metric)"
   ]
  },
  {
   "cell_type": "code",
   "execution_count": null,
   "metadata": {
    "colab": {
     "base_uri": "https://localhost:8080/"
    },
    "id": "PmX6opcn4D65",
    "outputId": "7cdf17c0-aa8a-4b14-c6da-4ef007359ff1"
   },
   "outputs": [],
   "source": [
    "for round in range(TOTAL_ROUND):\n",
    "        if round == 0:\n",
    "            for client in clients:\n",
    "                client.synchronize_with_server(server)\n",
    "\n",
    "        participating_clients = server.select_clients(clients, frac=1.0)\n",
    "\n",
    "        for client in participating_clients:\n",
    "            train_stats = client.compute_weight_update(epochs=1)\n",
    "            client.reset()\n",
    "\n",
    "\n",
    "        # generate feature matrix for clustering\n",
    "        client_dW_dicts = [client.dW for client in clients]\n",
    "        feature_matrix = generate_feature_matrix(client_dW_dicts)\n",
    "        print(\"feature matrix max\")\n",
    "        print(feature_matrix.max())\n",
    "        \n",
    "        # detect adversary using clustering\n",
    "        #detect_adv_idx = server.detect_adversary(feature_matrix, esp, min_samples, metric)\n",
    "        #detect_result = check_detect(detect_adv_idx, adv_idx)\n",
    "        \n",
    "        # return labels assigned to clients\n",
    "        clustering_labels = server.detect_adversary(feature_matrix, esp, min_samples, metric)\n",
    "\n",
    "        #if detect_result:\n",
    "        #    detect_counter[counter_key][round] += 1\n",
    "        # aggregate weight updates; copy new weights to clients\n",
    "        server.aggregate_weight_updates(clients)\n",
    "        server.copy_weights(clients)\n",
    "\n",
    "        acc_clients = [client.evaluate() for client in clients]\n",
    "        cfl_stats.log({\"acc_clients\" : acc_clients, \"rounds\" : round})\n",
    "    \n",
    "        print(\"round %d\"%(round))\n",
    "        #print(detect_adv_idx)\n",
    "        #print(acc_clients)\n",
    "\n",
    "        print(\"labels assigned to clients:\")\n",
    "        print_labels(clustering_labels)\n",
    "        print('detected outliers:')\n",
    "        print_outliers(clustering_labels)"
   ]
  },
  {
   "cell_type": "code",
   "execution_count": null,
   "metadata": {
    "colab": {
     "base_uri": "https://localhost:8080/"
    },
    "id": "OnLXaLICiX8v",
    "outputId": "97976169-db40-4d44-fdbf-8976763bf3f3"
   },
   "outputs": [],
   "source": []
  },
  {
   "cell_type": "code",
   "execution_count": null,
   "metadata": {
    "id": "QaV_fhC3hewb"
   },
   "outputs": [],
   "source": []
  },
  {
   "cell_type": "markdown",
   "metadata": {
    "colab": {
     "base_uri": "https://localhost:8080/"
    },
    "id": "Eu7Uncg2hDH5",
    "outputId": "26eaf299-c489-4705-ba71-1ae715f36387"
   },
   "source": [
    "# Experiment A: F1-score vs N_communication_round\n"
   ]
  },
  {
   "cell_type": "code",
   "execution_count": null,
   "metadata": {},
   "outputs": [],
   "source": [
    "data = datasets.MNIST(root='./',download=True)\n",
    "\n",
    "train_frac = 0.2\n",
    "test_frac = 0.2 \n",
    "train_num = int(train_frac * len(data))\n",
    "test_num = int(test_frac * len(data))\n",
    "idcs = np.random.permutation(len(data))\n",
    "train_idcs, test_idcs = idcs[:train_num], idcs[train_num:train_num + test_num]\n",
    "train_labels = data.train_labels.numpy()\n",
    "\n",
    "test_data = data.test_data[train_num:train_num+test_num]\n",
    "test_labels = train_labels[train_num:train_num+test_num]\n",
    "test_data = CustomImageDataset(test_data.to(torch.float32), test_labels, transforms=val_trans)"
   ]
  },
  {
   "cell_type": "code",
   "execution_count": null,
   "metadata": {},
   "outputs": [],
   "source": []
  },
  {
   "cell_type": "code",
   "execution_count": null,
   "metadata": {},
   "outputs": [],
   "source": [
    "def init_clients(n_clients, adv_config):\n",
    "    clients_split = split_image_data(data.train_data[train_idcs], train_labels[train_idcs], n_clients=n_clients, classes_per_client=5,balancedness=1)\n",
    "    \n",
    "    train_trans, val_trans = get_default_data_transforms(\"EMNIST\")\n",
    "    client_data = [CustomImageDataset(clients_split[i][0].to(torch.float32), clients_split[i][1],transforms=train_trans ) for i in range(len(clients_split))]\n",
    "    \n",
    "    clients = [Client(ConvNet, lambda x : torch.optim.SGD(x, lr=0.1, momentum=0.9), client_data[i], idnum=i) \n",
    "           for i, dat in enumerate(client_data)]\n",
    "    \n",
    "    # assign client mode\n",
    "    client_indx = np.random.permutation(len(clients))\n",
    "    n_adv_rand, n_adv_oppo, n_adv_swap = adv_config\n",
    "    \n",
    "    offset = 0\n",
    "    adv_rand = client_indx[0:n_adv_rand]\n",
    "    offset += n_adv_rand\n",
    "    adv_oppo = client_indx[offset:offset + n_adv_oppo]\n",
    "    offset += n_adv_oppo\n",
    "    adv_swap = client_indx[offset:offset + n_adv_swap]\n",
    "    offset += n_adv_swap\n",
    "    #adv_idx = np.concatenate((adv_random,adv_opp,adv_swap)).tolist()\n",
    "    \n",
    "    for i in adv_rand:\n",
    "        clients[i].client_mode = 'random'\n",
    "\n",
    "    for i in adv_oppo:\n",
    "        clients[i].client_mode = 'opposite'\n",
    "\n",
    "    for i in adv_swap:\n",
    "        clients[i].client_mode = 'swap'\n",
    "        \n",
    "    return clients\n",
    "\n",
    "def init_server():\n",
    "    server = Server(ConvNet, test_data)\n",
    "    \n",
    "    return server"
   ]
  },
  {
   "cell_type": "code",
   "execution_count": null,
   "metadata": {},
   "outputs": [],
   "source": [
    "def generate_feature_matrix(dW_dicts):\n",
    "    with torch.no_grad():\n",
    "        rows = []\n",
    "        \n",
    "        for dW_dict in dW_dicts:\n",
    "            row = torch.empty(0).to(device)\n",
    "            for key, value in dW_dict.items():\n",
    "                row = torch.cat((row, value.flatten()), 0)\n",
    "            rows.append(row)\n",
    "            \n",
    "        matrix = torch.stack(rows, 0)\n",
    "        if device is \"cpu\":\n",
    "            return matrix.numpy()\n",
    "        else:\n",
    "            return matrix.cpu().numpy()\n",
    "\n",
    "def compute_gt_labels(clients):\n",
    "    gt_labels = []\n",
    "    for client in clients:\n",
    "        if client.client_mode == 'normal':\n",
    "            gt_labels.append(0)\n",
    "        else:\n",
    "            gt_labels.append(-1)\n",
    "    return gt_labels\n",
    "    \n",
    "def compute_f1(pred_labels, gt_labels):\n",
    "    pred_labels = [-1 if label == -1 else 0 for label in pred_labels]\n",
    "    score = f1_score(pred_labels, gt_labels)\n",
    "    \n",
    "    return score"
   ]
  },
  {
   "cell_type": "code",
   "execution_count": null,
   "metadata": {
    "colab": {
     "base_uri": "https://localhost:8080/"
    },
    "id": "Cv3D0X6Khgs2",
    "outputId": "7ecb1e2c-1789-4821-986d-9e4096442306"
   },
   "outputs": [],
   "source": [
    "TOTAL_ROUND = 30\n",
    "TOTAL_TRIAL = 30\n",
    "\n",
    "esp = 0.8\n",
    "min_samples = 2\n",
    "metric = 'cosine'\n",
    "\n",
    "n_clients = 25\n",
    "n_adv_rand = 3\n",
    "n_adv_oppo = 0\n",
    "n_adv_swap = 0\n",
    "adv_config = (n_adv_rand, n_adv_oppo, n_adv_swap)\n",
    "\n",
    "cfl_stats = ExperimentLogger()\n",
    "\n",
    "gt_labels = compute_gt_labels(clients)\n",
    "f1_sum = np.array([0] * TOTAL_ROUND)"
   ]
  },
  {
   "cell_type": "code",
   "execution_count": null,
   "metadata": {
    "colab": {
     "base_uri": "https://localhost:8080/",
     "height": 860
    },
    "id": "Z_rk96iUeHKe",
    "outputId": "0238ad83-7b62-4336-b15b-fb6db4ffa8a9"
   },
   "outputs": [],
   "source": [
    "# for a combination of esp, min_samples, metric\n",
    "# run multiple trials, do clustering at each round\n",
    "# compute and accumulate f1_score for clustering labels at each round\n",
    "\n",
    "for trial in range(TOTAL_TRIAL):\n",
    "    # initialize server and clients\n",
    "    clients = init_clients(n_clients, adv_config)\n",
    "    server = init_server()\n",
    "    \n",
    "    # compute ground-truth labels\n",
    "    gt_labels = compute_gt_labels(clients)\n",
    "    \n",
    "    for round in range(TOTAL_ROUND):\n",
    "        print(\"Trial: {}, Round: {}\".format(trial, round))\n",
    "        \n",
    "        if round == 0:\n",
    "            for client in clients:\n",
    "                client.synchronize_with_server(server)\n",
    "                \n",
    "        participating_clients = server.select_clients(clients, frac=1.0)\n",
    "        for client in participating_clients:\n",
    "            train_stats = client.compute_weight_update(epochs=1)\n",
    "            client.reset()\n",
    "            \n",
    "        # generate feature matrix for clustering\n",
    "        client_dW_dicts = [client.dW for client in clients]\n",
    "        feature_matrix = generate_feature_matrix(client_dW_dicts)\n",
    "        \n",
    "        # detect outlier using clustering\n",
    "        clustering_labels = server.detect_adversary(feature_matrix, esp, min_samples, metric)\n",
    "        \n",
    "        # aggregate weight updates; copy new weights to clients\n",
    "        server.aggregate_weight_updates(clients)\n",
    "        server.copy_weights(clients)\n",
    "        \n",
    "        score = compute_f1(clustering_labels, gt_labels, pos_label=-1)\n",
    "        f1_sum[round] += score"
   ]
  },
  {
   "cell_type": "code",
   "execution_count": null,
   "metadata": {
    "colab": {
     "base_uri": "https://localhost:8080/"
    },
    "id": "YW4w4YuheHKf",
    "outputId": "7a61101c-5df7-4df6-90e5-22eb1dea6cf3"
   },
   "outputs": [],
   "source": []
  },
  {
   "cell_type": "code",
   "execution_count": null,
   "metadata": {
    "colab": {
     "base_uri": "https://localhost:8080/"
    },
    "id": "nMGNukWEeHKf",
    "outputId": "54914438-6e64-412c-b2fc-1781f2a6a1c3"
   },
   "outputs": [],
   "source": []
  },
  {
   "cell_type": "code",
   "execution_count": null,
   "metadata": {
    "id": "GOAWUEcxeHKf"
   },
   "outputs": [],
   "source": []
  },
  {
   "cell_type": "code",
   "execution_count": null,
   "metadata": {
    "id": "RuxCsHEGeHKf",
    "outputId": "e3cc902b-0a1f-427e-dca5-76c079c88d85"
   },
   "outputs": [],
   "source": []
  },
  {
   "cell_type": "code",
   "execution_count": null,
   "metadata": {
    "id": "gYABA48MeHKg"
   },
   "outputs": [],
   "source": []
  },
  {
   "cell_type": "code",
   "execution_count": null,
   "metadata": {
    "id": "_VHE6blGeHKg"
   },
   "outputs": [],
   "source": []
  },
  {
   "cell_type": "code",
   "execution_count": null,
   "metadata": {
    "id": "h16tkVcqeHKg"
   },
   "outputs": [],
   "source": []
  },
  {
   "cell_type": "code",
   "execution_count": null,
   "metadata": {
    "id": "B_VLyOlpeHKg"
   },
   "outputs": [],
   "source": []
  },
  {
   "cell_type": "code",
   "execution_count": null,
   "metadata": {
    "id": "CRN5ax7BeHKg"
   },
   "outputs": [],
   "source": []
  },
  {
   "cell_type": "code",
   "execution_count": null,
   "metadata": {
    "id": "rTmncOZyeHKg"
   },
   "outputs": [],
   "source": []
  }
 ],
 "metadata": {
  "accelerator": "GPU",
  "colab": {
   "name": "adv_detection.ipynb",
   "provenance": []
  },
  "kernelspec": {
   "display_name": "Python 3",
   "language": "python",
   "name": "python3"
  },
  "language_info": {
   "codemirror_mode": {
    "name": "ipython",
    "version": 3
   },
   "file_extension": ".py",
   "mimetype": "text/x-python",
   "name": "python",
   "nbconvert_exporter": "python",
   "pygments_lexer": "ipython3",
   "version": "3.8.5"
  }
 },
 "nbformat": 4,
 "nbformat_minor": 1
}
