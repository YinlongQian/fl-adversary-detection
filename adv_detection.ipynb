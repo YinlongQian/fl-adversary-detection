{
 "cells": [
  {
   "cell_type": "code",
   "execution_count": 65,
   "metadata": {
    "id": "l6s3cN3xeHKX"
   },
   "outputs": [],
   "source": [
    "%matplotlib inline\n",
    "\n",
    "import torch\n",
    "import torchvision\n",
    "from torch.utils.data.dataset import Dataset\n",
    "from torchvision import datasets, transforms\n",
    "from torch.utils.data import DataLoader\n",
    "\n",
    "import numpy as np\n",
    "import matplotlib.pyplot as plt\n",
    "import random\n",
    "from collections import defaultdict\n",
    "\n",
    "from data_utils import CustomImageDataset, split_image_data\n",
    "from data_utils import get_default_data_transforms\n",
    "from models import ConvNet\n",
    "from fl_devices import Server, Client\n",
    "from helper import ExperimentLogger, display_train_stats\n",
    "\n",
    "from sklearn.cluster import AgglomerativeClustering, DBSCAN\n",
    "from sklearn.metrics import pairwise_distances\n",
    "from sklearn.decomposition import PCA\n",
    "\n",
    "\n",
    "torch.manual_seed(0)\n",
    "random.seed(0)\n",
    "np.random.seed(0)\n",
    "\n",
    "device = \"cuda\" if torch.cuda.is_available() else \"cpu\""
   ]
  },
  {
   "cell_type": "code",
   "execution_count": 2,
   "metadata": {
    "id": "L7IeGCipeHKb"
   },
   "outputs": [],
   "source": [
    "# helper functions\n",
    "\n",
    "# detect_adv_idx: adverary indices detected by server\n",
    "# gt_adv_idx: ground-truth indices\n",
    "def check_detect(detect_adv_idx, gt_adv_idx):\n",
    "    intersection = [idx for idx in gt_adv_idx if idx in detect_adv_idx]\n",
    "    if len(intersection) > 0:\n",
    "        return True\n",
    "    else:\n",
    "        return False\n",
    "    \n",
    "# feature_matrix:\n",
    "# each row is flatten dWs from a client\n",
    "def generate_feature_matrix(dW_dicts):\n",
    "    with torch.no_grad():\n",
    "        rows = []\n",
    "        \n",
    "        for dW_dict in dW_dicts:\n",
    "            row = torch.empty(0).to(device)\n",
    "            for key, value in dW_dict.items():\n",
    "                row = torch.cat((row, value.flatten()), 0)\n",
    "            rows.append(row)\n",
    "            \n",
    "        matrix = torch.stack(rows, 0)\n",
    "        if device is \"cpu\":\n",
    "            return matrix.numpy()\n",
    "        else:\n",
    "            return matrix.cpu().numpy()\n",
    "        \n",
    "def print_labels(labels):\n",
    "  string = []\n",
    "  for idx, label in enumerate(labels):\n",
    "    string.append(str(idx)+': '+str(label))\n",
    "  print('\\t'.join(string))\n",
    "\n",
    "def print_outliers(labels):\n",
    "  outlier_idx = np.argwhere(labels == -1).flatten()\n",
    "  print(outlier_idx)\n",
    "    \n",
    "def print_distance(feature_matrix, metric):\n",
    "  distance = pairwise_distances(feature_matrix,metric=metirc)\n",
    "  return distance "
   ]
  },
  {
   "cell_type": "code",
   "execution_count": 56,
   "metadata": {
    "id": "8Tu6DnrMeHKc"
   },
   "outputs": [],
   "source": [
    "# hyperparameters\n",
    "N_CLIENT = 25\n",
    "N_ADV_RANDOM = 3\n",
    "N_ADV_OPP = 0\n",
    "N_ADV_SWAP = 0"
   ]
  },
  {
   "cell_type": "code",
   "execution_count": 4,
   "metadata": {
    "colab": {
     "base_uri": "https://localhost:8080/"
    },
    "id": "tYsl3QEVeHKc",
    "outputId": "c9c09033-2acf-4195-c0b3-3af60e50e7b5"
   },
   "outputs": [
    {
     "name": "stdout",
     "output_type": "stream",
     "text": [
      "\n",
      "\n"
     ]
    }
   ],
   "source": [
    "# data = datasets.EMNIST(root=\"./\", split=\"byclass\",download=True)\n",
    "data = datasets.MNIST(root='./',download=True)"
   ]
  },
  {
   "cell_type": "code",
   "execution_count": 57,
   "metadata": {
    "colab": {
     "base_uri": "https://localhost:8080/"
    },
    "id": "Z6T-CX8oeHKc",
    "outputId": "d3f5a1e0-6151-4d7e-d440-9ea9a9762695"
   },
   "outputs": [
    {
     "name": "stderr",
     "output_type": "stream",
     "text": [
      "/usr/local/lib/python3.6/dist-packages/torchvision/datasets/mnist.py:48: UserWarning: train_labels has been renamed targets\n",
      "  warnings.warn(\"train_labels has been renamed targets\")\n"
     ]
    }
   ],
   "source": [
    "## It seems that data.train_data and data.test_data are the same\n",
    "## small data for fast training \n",
    "train_frac = 0.2\n",
    "test_frac = 0.2 \n",
    "train_num = int(train_frac * len(data))\n",
    "test_num = int(test_frac * len(data))\n",
    "idcs = np.random.permutation(len(data))\n",
    "train_idcs, test_idcs = idcs[:train_num], idcs[train_num:train_num + test_num]\n",
    "train_labels = data.train_labels.numpy()"
   ]
  },
  {
   "cell_type": "code",
   "execution_count": 58,
   "metadata": {
    "colab": {
     "base_uri": "https://localhost:8080/"
    },
    "id": "vIVsk_H_eHKd",
    "outputId": "39f09141-2641-463e-c349-0f8a6155aae5"
   },
   "outputs": [
    {
     "name": "stdout",
     "output_type": "stream",
     "text": [
      "Data split:\n",
      " - Client 0: [ 0  0  0 96 96 96 96 96  0  0]\n",
      " - Client 1: [ 0 96 96 96 96 96  0  0  0  0]\n",
      " - Client 2: [96  0  0  0  0  0 96 96 96 96]\n",
      " - Client 3: [96 96 96  0  0  0  0  0 96 96]\n",
      " - Client 4: [96 96 96 96  0  0  0  0  0 96]\n",
      " - Client 5: [ 0 96 96 96 96 96  0  0  0  0]\n",
      " - Client 6: [96  0  0  0  0  0 96 96 96 96]\n",
      " - Client 7: [ 0 96 96 96 96 96  0  0  0  0]\n",
      " - Client 8: [ 0  0  0  0 96 96 96 96 96  0]\n",
      " - Client 9: [ 0  0 96 96 96 96 96  0  0  0]\n",
      " - Client 10: [96 96 96 96 96  0  0  0  0  0]\n",
      " - Client 11: [ 0  0  0  0 96 96 96 96 96  0]\n",
      " - Client 12: [ 0  0 96 96 96 96 96  0  0  0]\n",
      " - Client 13: [96  0  0  0  0  0 96 96 96 96]\n",
      " - Client 14: [96 96 96 96  0  0  0  0  0 96]\n",
      " - Client 15: [96 96 96  0  0  0  0  0 96 96]\n",
      " - Client 16: [96 96  0  0  0  0  0 96 96 96]\n",
      " - Client 17: [96 96 96 96  0  0  0  0  0 96]\n",
      " - Client 18: [96 96 96 96  0  0  0  0  0 96]\n",
      " - Client 19: [ 0  0  0 96 96 96 96 96  0  0]\n",
      " - Client 20: [96 96 35 93 96 64  0  0  0  0]\n",
      " - Client 21: [ 0  0  0  0 96 96 96 96 96  0]\n",
      " - Client 22: [36 96  0  0 19 71 66  0 96 96]\n",
      " - Client 23: [ 0 96  0  0  0  0 96 96 96 96]\n",
      " - Client 24: [  0  10   0   0   0   0  36 248 115  71]\n",
      "\n"
     ]
    },
    {
     "name": "stderr",
     "output_type": "stream",
     "text": [
      "/usr/local/lib/python3.6/dist-packages/torchvision/datasets/mnist.py:58: UserWarning: train_data has been renamed data\n",
      "  warnings.warn(\"train_data has been renamed data\")\n"
     ]
    }
   ],
   "source": [
    "clients_split = split_image_data(data.train_data[train_idcs], train_labels[train_idcs], n_clients=N_CLIENT, classes_per_client=5,balancedness=1)"
   ]
  },
  {
   "cell_type": "code",
   "execution_count": 59,
   "metadata": {
    "colab": {
     "base_uri": "https://localhost:8080/"
    },
    "id": "E_68rX9oeHKd",
    "outputId": "aa435de6-4090-41c7-9c5d-9b9607163ff7"
   },
   "outputs": [
    {
     "name": "stdout",
     "output_type": "stream",
     "text": [
      "\n",
      "Data preprocessing: \n",
      " - ToPILImage()\n",
      " - Resize(size=(28, 28), interpolation=PIL.Image.BILINEAR)\n",
      " - ToTensor()\n",
      " - Normalize(mean=(0.06078,), std=(0.1957,))\n",
      "\n"
     ]
    }
   ],
   "source": [
    "train_trans, val_trans = get_default_data_transforms(\"EMNIST\")\n",
    "client_data = [CustomImageDataset(clients_split[i][0].to(torch.float32), clients_split[i][1],transforms=train_trans ) for i in range(len(clients_split))]"
   ]
  },
  {
   "cell_type": "code",
   "execution_count": 60,
   "metadata": {
    "colab": {
     "base_uri": "https://localhost:8080/"
    },
    "id": "Vcff9mpteHKe",
    "outputId": "963b66c9-55de-49db-ab99-52c9530bee78"
   },
   "outputs": [
    {
     "name": "stderr",
     "output_type": "stream",
     "text": [
      "/usr/local/lib/python3.6/dist-packages/torchvision/datasets/mnist.py:63: UserWarning: test_data has been renamed data\n",
      "  warnings.warn(\"test_data has been renamed data\")\n"
     ]
    }
   ],
   "source": [
    "test_data = data.test_data[train_num:train_num+test_num]\n",
    "test_labels = train_labels[train_num:train_num+test_num]\n",
    "test_data = CustomImageDataset(test_data.to(torch.float32), test_labels, transforms=val_trans)"
   ]
  },
  {
   "cell_type": "code",
   "execution_count": 67,
   "metadata": {
    "colab": {
     "base_uri": "https://localhost:8080/"
    },
    "id": "F2n3J1xSeHKe",
    "outputId": "c64f805f-b580-488d-bc39-3e711a7656f8"
   },
   "outputs": [
    {
     "name": "stdout",
     "output_type": "stream",
     "text": [
      "0: normal\n",
      "1: normal\n",
      "2: random\n",
      "3: normal\n",
      "4: normal\n",
      "5: random\n",
      "6: normal\n",
      "7: normal\n",
      "8: normal\n",
      "9: normal\n",
      "10: normal\n",
      "11: normal\n",
      "12: normal\n",
      "13: normal\n",
      "14: normal\n",
      "15: normal\n",
      "16: normal\n",
      "17: normal\n",
      "18: normal\n",
      "19: random\n",
      "20: normal\n",
      "21: normal\n",
      "22: normal\n",
      "23: normal\n",
      "24: normal\n"
     ]
    }
   ],
   "source": [
    "# Assign client modes\n",
    "clients = [Client(ConvNet, lambda x : torch.optim.SGD(x, lr=0.1, momentum=0.9), client_data[i], idnum=i) \n",
    "           for i, dat in enumerate(client_data)]\n",
    "client_indx = np.random.permutation(len(clients))\n",
    "offset = 0\n",
    "adv_random = client_indx[0:N_ADV_RANDOM]\n",
    "offset += N_ADV_RANDOM\n",
    "adv_opp = client_indx[offset:offset + N_ADV_OPP]\n",
    "offset += N_ADV_OPP\n",
    "adv_swap = client_indx[offset:offset+N_ADV_SWAP]\n",
    "offset += N_ADV_SWAP\n",
    "adv_idx = np.concatenate((adv_random,adv_opp,adv_swap)).tolist()\n",
    "for i in adv_random:\n",
    "  clients[i].client_mode = 'random'\n",
    "\n",
    "for i in adv_opp:\n",
    "  clients[i].client_mode = 'opposite'\n",
    "\n",
    "for i in adv_swap:\n",
    "  clients[i].client_mode = 'mode_3'\n",
    "\n",
    "# print out each client and its mode\n",
    "for idx, client in enumerate(clients):\n",
    "  print('{}: {}'.format(idx, client.client_mode))\n",
    "\n",
    "server = Server(ConvNet, test_data)"
   ]
  },
  {
   "cell_type": "code",
   "execution_count": 10,
   "metadata": {
    "id": "04NMEiB9eHKe"
   },
   "outputs": [],
   "source": [
    "# hyperparemeters\n",
    "TOTAL_ROUND = 20\n",
    "\n",
    "esp = 2.0\n",
    "min_samples =2\n",
    "metric = 'l2'\n",
    "cfl_stats = ExperimentLogger()\n",
    "#counter_key = (esp, min_samples, metric)"
   ]
  },
  {
   "cell_type": "code",
   "execution_count": 68,
   "metadata": {
    "colab": {
     "base_uri": "https://localhost:8080/"
    },
    "id": "PmX6opcn4D65",
    "outputId": "7cdf17c0-aa8a-4b14-c6da-4ef007359ff1"
   },
   "outputs": [
    {
     "name": "stdout",
     "output_type": "stream",
     "text": [
      "feature matrix max\n",
      "0.27681434\n",
      "round 0\n",
      "labels assigned to clients:\n",
      "0: 0\t1: 0\t2: -1\t3: 0\t4: 0\t5: -1\t6: 0\t7: 0\t8: 0\t9: 0\t10: 0\t11: 0\t12: 0\t13: 0\t14: 0\t15: 0\t16: 0\t17: 0\t18: 0\t19: -1\t20: 0\t21: 0\t22: 0\t23: 0\t24: 0\n",
      "detected outliers:\n",
      "[ 2  5 19]\n",
      "feature matrix max\n",
      "0.8563676\n",
      "round 1\n",
      "labels assigned to clients:\n",
      "0: -1\t1: -1\t2: -1\t3: -1\t4: 0\t5: -1\t6: -1\t7: -1\t8: 1\t9: 2\t10: -1\t11: -1\t12: 2\t13: -1\t14: 3\t15: -1\t16: -1\t17: 3\t18: 0\t19: -1\t20: -1\t21: 1\t22: -1\t23: -1\t24: -1\n",
      "detected outliers:\n",
      "[ 0  1  2  3  5  6  7 10 11 13 15 16 19 20 22 23 24]\n",
      "feature matrix max\n",
      "0.6340621\n",
      "round 2\n",
      "labels assigned to clients:\n",
      "0: -1\t1: -1\t2: -1\t3: -1\t4: 0\t5: -1\t6: 1\t7: -1\t8: 2\t9: 3\t10: -1\t11: -1\t12: 3\t13: 1\t14: 4\t15: -1\t16: -1\t17: 4\t18: 0\t19: -1\t20: -1\t21: 2\t22: -1\t23: -1\t24: -1\n",
      "detected outliers:\n",
      "[ 0  1  2  3  5  7 10 11 15 16 19 20 22 23 24]\n",
      "feature matrix max\n",
      "0.65579414\n",
      "round 3\n",
      "labels assigned to clients:\n",
      "0: -1\t1: -1\t2: -1\t3: 0\t4: 0\t5: -1\t6: 1\t7: 0\t8: -1\t9: -1\t10: 0\t11: -1\t12: -1\t13: 1\t14: 0\t15: -1\t16: -1\t17: 0\t18: 0\t19: -1\t20: 0\t21: -1\t22: -1\t23: -1\t24: -1\n",
      "detected outliers:\n",
      "[ 0  1  2  5  8  9 11 12 15 16 19 21 22 23 24]\n",
      "feature matrix max\n",
      "0.90979666\n",
      "round 4\n",
      "labels assigned to clients:\n",
      "0: -1\t1: 0\t2: -1\t3: 0\t4: 0\t5: -1\t6: -1\t7: 0\t8: -1\t9: -1\t10: 0\t11: -1\t12: -1\t13: -1\t14: 0\t15: 0\t16: 0\t17: 0\t18: 0\t19: -1\t20: 0\t21: -1\t22: 0\t23: -1\t24: -1\n",
      "detected outliers:\n",
      "[ 0  2  5  6  8  9 11 12 13 19 21 23 24]\n",
      "feature matrix max\n",
      "0.88576394\n",
      "round 5\n",
      "labels assigned to clients:\n",
      "0: -1\t1: 0\t2: -1\t3: 0\t4: 0\t5: -1\t6: 1\t7: 0\t8: 2\t9: -1\t10: 0\t11: -1\t12: -1\t13: 1\t14: 0\t15: 0\t16: 0\t17: 0\t18: 0\t19: -1\t20: 0\t21: 2\t22: 0\t23: -1\t24: -1\n",
      "detected outliers:\n",
      "[ 0  2  5  9 11 12 19 23 24]\n",
      "feature matrix max\n",
      "1.0067163\n",
      "round 6\n",
      "labels assigned to clients:\n",
      "0: -1\t1: 0\t2: -1\t3: 0\t4: 0\t5: -1\t6: 1\t7: 0\t8: 1\t9: 0\t10: 0\t11: -1\t12: -1\t13: 1\t14: 0\t15: 0\t16: 0\t17: 0\t18: 0\t19: -1\t20: 0\t21: 1\t22: 0\t23: -1\t24: 1\n",
      "detected outliers:\n",
      "[ 0  2  5 11 12 19 23]\n",
      "feature matrix max\n",
      "1.0852491\n",
      "round 7\n",
      "labels assigned to clients:\n",
      "0: 0\t1: 0\t2: -1\t3: 0\t4: 0\t5: -1\t6: 0\t7: 0\t8: 0\t9: 0\t10: 0\t11: -1\t12: 0\t13: 0\t14: 0\t15: 0\t16: 0\t17: 0\t18: 0\t19: -1\t20: 0\t21: 0\t22: 0\t23: 0\t24: 0\n",
      "detected outliers:\n",
      "[ 2  5 11 19]\n",
      "feature matrix max\n",
      "1.143109\n",
      "round 8\n",
      "labels assigned to clients:\n",
      "0: 0\t1: 0\t2: -1\t3: 0\t4: 0\t5: -1\t6: 0\t7: 0\t8: 0\t9: 0\t10: 0\t11: 0\t12: 0\t13: 0\t14: 0\t15: 0\t16: 0\t17: 0\t18: 0\t19: -1\t20: 0\t21: 0\t22: 0\t23: 0\t24: 0\n",
      "detected outliers:\n",
      "[ 2  5 19]\n",
      "feature matrix max\n",
      "1.1926796\n",
      "round 9\n",
      "labels assigned to clients:\n",
      "0: 0\t1: 0\t2: -1\t3: 0\t4: 0\t5: -1\t6: 0\t7: 0\t8: 0\t9: 0\t10: 0\t11: 0\t12: 0\t13: 0\t14: 0\t15: 0\t16: 0\t17: 0\t18: 0\t19: -1\t20: 0\t21: 0\t22: 0\t23: 0\t24: 0\n",
      "detected outliers:\n",
      "[ 2  5 19]\n",
      "feature matrix max\n",
      "1.2031862\n",
      "round 10\n",
      "labels assigned to clients:\n",
      "0: 0\t1: 0\t2: -1\t3: 0\t4: 0\t5: -1\t6: 0\t7: 0\t8: 0\t9: 0\t10: 0\t11: 0\t12: 0\t13: 0\t14: 0\t15: 0\t16: 0\t17: 0\t18: 0\t19: -1\t20: 0\t21: 0\t22: 0\t23: 0\t24: 0\n",
      "detected outliers:\n",
      "[ 2  5 19]\n",
      "feature matrix max\n",
      "1.1865473\n",
      "round 11\n",
      "labels assigned to clients:\n",
      "0: 0\t1: 0\t2: -1\t3: 0\t4: 0\t5: -1\t6: 0\t7: 0\t8: 0\t9: 0\t10: 0\t11: 0\t12: 0\t13: 0\t14: 0\t15: 0\t16: 0\t17: 0\t18: 0\t19: -1\t20: 0\t21: 0\t22: 0\t23: 0\t24: 0\n",
      "detected outliers:\n",
      "[ 2  5 19]\n",
      "feature matrix max\n",
      "1.1519611\n",
      "round 12\n",
      "labels assigned to clients:\n",
      "0: 0\t1: 0\t2: -1\t3: 0\t4: 0\t5: -1\t6: 0\t7: 0\t8: 0\t9: 0\t10: 0\t11: 0\t12: 0\t13: 0\t14: 0\t15: 0\t16: 0\t17: 0\t18: 0\t19: -1\t20: 0\t21: 0\t22: 0\t23: 0\t24: 0\n",
      "detected outliers:\n",
      "[ 2  5 19]\n",
      "feature matrix max\n",
      "1.065616\n",
      "round 13\n",
      "labels assigned to clients:\n",
      "0: 0\t1: 0\t2: -1\t3: 0\t4: 0\t5: -1\t6: 0\t7: 0\t8: 0\t9: 0\t10: 0\t11: 0\t12: 0\t13: 0\t14: 0\t15: 0\t16: 0\t17: 0\t18: 0\t19: -1\t20: 0\t21: 0\t22: 0\t23: 0\t24: 0\n",
      "detected outliers:\n",
      "[ 2  5 19]\n",
      "feature matrix max\n",
      "0.9555001\n",
      "round 14\n",
      "labels assigned to clients:\n",
      "0: 0\t1: 0\t2: -1\t3: 0\t4: 0\t5: -1\t6: 0\t7: 0\t8: 0\t9: 0\t10: 0\t11: 0\t12: 0\t13: 0\t14: 0\t15: 0\t16: 0\t17: 0\t18: 0\t19: -1\t20: 0\t21: 0\t22: 0\t23: 0\t24: 0\n",
      "detected outliers:\n",
      "[ 2  5 19]\n",
      "feature matrix max\n",
      "0.81029534\n",
      "round 15\n",
      "labels assigned to clients:\n",
      "0: 0\t1: 0\t2: -1\t3: 0\t4: 0\t5: -1\t6: 0\t7: 0\t8: 0\t9: 0\t10: 0\t11: 0\t12: 0\t13: 0\t14: 0\t15: 0\t16: 0\t17: 0\t18: 0\t19: -1\t20: 0\t21: 0\t22: 0\t23: 0\t24: 0\n",
      "detected outliers:\n",
      "[ 2  5 19]\n",
      "feature matrix max\n",
      "0.6736319\n",
      "round 16\n",
      "labels assigned to clients:\n",
      "0: 0\t1: 0\t2: -1\t3: 0\t4: 0\t5: -1\t6: 0\t7: 0\t8: 0\t9: 0\t10: 0\t11: 0\t12: 0\t13: 0\t14: 0\t15: 0\t16: 0\t17: 0\t18: 0\t19: -1\t20: 0\t21: 0\t22: 0\t23: 0\t24: 0\n",
      "detected outliers:\n",
      "[ 2  5 19]\n",
      "feature matrix max\n",
      "0.6384314\n",
      "round 17\n",
      "labels assigned to clients:\n",
      "0: 0\t1: 0\t2: -1\t3: 0\t4: 0\t5: -1\t6: 0\t7: 0\t8: 0\t9: 0\t10: 0\t11: 0\t12: 0\t13: 0\t14: 0\t15: 0\t16: 0\t17: 0\t18: 0\t19: -1\t20: 0\t21: 0\t22: 0\t23: 0\t24: 0\n",
      "detected outliers:\n",
      "[ 2  5 19]\n",
      "feature matrix max\n",
      "0.80152035\n",
      "round 18\n",
      "labels assigned to clients:\n",
      "0: 0\t1: 0\t2: -1\t3: 0\t4: 0\t5: -1\t6: 0\t7: 0\t8: 0\t9: 0\t10: 0\t11: 0\t12: 0\t13: 0\t14: 0\t15: 0\t16: 0\t17: 0\t18: 0\t19: -1\t20: 0\t21: 0\t22: 0\t23: 0\t24: 0\n",
      "detected outliers:\n",
      "[ 2  5 19]\n",
      "feature matrix max\n",
      "0.74924135\n",
      "round 19\n",
      "labels assigned to clients:\n",
      "0: 0\t1: 0\t2: -1\t3: 0\t4: 0\t5: -1\t6: 0\t7: 0\t8: 0\t9: 0\t10: 0\t11: 0\t12: 0\t13: 0\t14: 0\t15: 0\t16: 0\t17: 0\t18: 0\t19: -1\t20: 0\t21: 0\t22: 0\t23: 0\t24: 0\n",
      "detected outliers:\n",
      "[ 2  5 19]\n"
     ]
    }
   ],
   "source": [
    "for round in range(TOTAL_ROUND):\n",
    "        if round == 0:\n",
    "            for client in clients:\n",
    "                client.synchronize_with_server(server)\n",
    "\n",
    "        participating_clients = server.select_clients(clients, frac=1.0)\n",
    "\n",
    "        for client in participating_clients:\n",
    "            train_stats = client.compute_weight_update(epochs=1)\n",
    "            client.reset()\n",
    "\n",
    "\n",
    "        # generate feature matrix for clustering\n",
    "        client_dW_dicts = [client.dW for client in clients]\n",
    "        feature_matrix = generate_feature_matrix(client_dW_dicts)\n",
    "        print(\"feature matrix max\")\n",
    "        print(feature_matrix.max())\n",
    "        \n",
    "        # detect adversary using clustering\n",
    "        #detect_adv_idx = server.detect_adversary(feature_matrix, esp, min_samples, metric)\n",
    "        #detect_result = check_detect(detect_adv_idx, adv_idx)\n",
    "        \n",
    "        # return labels assigned to clients\n",
    "        clustering_labels = server.detect_adversary(feature_matrix, esp, min_samples, metric)\n",
    "\n",
    "        #if detect_result:\n",
    "        #    detect_counter[counter_key][round] += 1\n",
    "        # aggregate weight updates; copy new weights to clients\n",
    "        server.aggregate_weight_updates(clients)\n",
    "        server.copy_weights(clients)\n",
    "\n",
    "        acc_clients = [client.evaluate() for client in clients]\n",
    "        cfl_stats.log({\"acc_clients\" : acc_clients, \"rounds\" : round})\n",
    "    \n",
    "        print(\"round %d\"%(round))\n",
    "        #print(detect_adv_idx)\n",
    "        #print(acc_clients)\n",
    "\n",
    "        print(\"labels assigned to clients:\")\n",
    "        print_labels(clustering_labels)\n",
    "        print('detected outliers:')\n",
    "        print_outliers(clustering_labels)"
   ]
  },
  {
   "cell_type": "code",
   "execution_count": null,
   "metadata": {
    "colab": {
     "base_uri": "https://localhost:8080/"
    },
    "id": "OnLXaLICiX8v",
    "outputId": "97976169-db40-4d44-fdbf-8976763bf3f3"
   },
   "outputs": [],
   "source": []
  },
  {
   "cell_type": "code",
   "execution_count": null,
   "metadata": {
    "id": "QaV_fhC3hewb"
   },
   "outputs": [],
   "source": []
  },
  {
   "cell_type": "markdown",
   "metadata": {
    "colab": {
     "base_uri": "https://localhost:8080/"
    },
    "id": "Eu7Uncg2hDH5",
    "outputId": "26eaf299-c489-4705-ba71-1ae715f36387"
   },
   "source": [
    "# Experiment A: F1-score vs N_communication_round\n"
   ]
  },
  {
   "cell_type": "code",
   "execution_count": null,
   "metadata": {
    "colab": {
     "base_uri": "https://localhost:8080/"
    },
    "id": "Cv3D0X6Khgs2",
    "outputId": "7ecb1e2c-1789-4821-986d-9e4096442306"
   },
   "outputs": [],
   "source": [
    "#TOTAL_ROUND = 20\n",
    "TOTAL_TRIAL = 30\n",
    "\n",
    "esp = 2.0\n",
    "min_samples =2\n",
    "metric = 'l2'\n",
    "cfl_stats = ExperimentLogger()\n",
    "\n",
    "detect_counter = defaultdict(lambda: [0] * TOTAL_ROUND)"
   ]
  },
  {
   "cell_type": "code",
   "execution_count": null,
   "metadata": {
    "colab": {
     "base_uri": "https://localhost:8080/",
     "height": 860
    },
    "id": "Z_rk96iUeHKe",
    "outputId": "0238ad83-7b62-4336-b15b-fb6db4ffa8a9"
   },
   "outputs": [
    {
     "name": "stdout",
     "output_type": "stream",
     "text": [
      "0\n",
      "1\n",
      "2\n",
      "3\n",
      "4\n",
      "5\n",
      "6\n",
      "7\n",
      "8\n",
      "9\n",
      "10\n",
      "11\n",
      "12\n",
      "13\n",
      "14\n",
      "15\n",
      "16\n",
      "17\n",
      "18\n",
      "19\n",
      "0\n",
      "0\n",
      "1\n",
      "2\n",
      "3\n",
      "4\n",
      "5\n"
     ]
    },
    {
     "ename": "KeyboardInterrupt",
     "evalue": "ignored",
     "output_type": "error",
     "traceback": [
      "\u001b[0;31m---------------------------------------------------------------------------\u001b[0m",
      "\u001b[0;31mKeyboardInterrupt\u001b[0m                         Traceback (most recent call last)",
      "\u001b[0;32m<ipython-input-13-17092e57f956>\u001b[0m in \u001b[0;36m<module>\u001b[0;34m()\u001b[0m\n\u001b[1;32m     20\u001b[0m \u001b[0;34m\u001b[0m\u001b[0m\n\u001b[1;32m     21\u001b[0m                         \u001b[0;32mfor\u001b[0m \u001b[0mclient\u001b[0m \u001b[0;32min\u001b[0m \u001b[0mparticipating_clients\u001b[0m\u001b[0;34m:\u001b[0m\u001b[0;34m\u001b[0m\u001b[0;34m\u001b[0m\u001b[0m\n\u001b[0;32m---> 22\u001b[0;31m                             \u001b[0mtrain_stats\u001b[0m \u001b[0;34m=\u001b[0m \u001b[0mclient\u001b[0m\u001b[0;34m.\u001b[0m\u001b[0mcompute_weight_update\u001b[0m\u001b[0;34m(\u001b[0m\u001b[0mepochs\u001b[0m\u001b[0;34m=\u001b[0m\u001b[0;36m1\u001b[0m\u001b[0;34m)\u001b[0m\u001b[0;34m\u001b[0m\u001b[0;34m\u001b[0m\u001b[0m\n\u001b[0m\u001b[1;32m     23\u001b[0m                             \u001b[0mclient\u001b[0m\u001b[0;34m.\u001b[0m\u001b[0mreset\u001b[0m\u001b[0;34m(\u001b[0m\u001b[0;34m)\u001b[0m\u001b[0;34m\u001b[0m\u001b[0;34m\u001b[0m\u001b[0m\n\u001b[1;32m     24\u001b[0m \u001b[0;34m\u001b[0m\u001b[0m\n",
      "\u001b[0;32m/content/fl_devices.py\u001b[0m in \u001b[0;36mcompute_weight_update\u001b[0;34m(self, epochs, loader)\u001b[0m\n\u001b[1;32m     95\u001b[0m         \u001b[0mcopy\u001b[0m\u001b[0;34m(\u001b[0m\u001b[0mtarget\u001b[0m\u001b[0;34m=\u001b[0m\u001b[0mself\u001b[0m\u001b[0;34m.\u001b[0m\u001b[0mW_old\u001b[0m\u001b[0;34m,\u001b[0m \u001b[0msource\u001b[0m\u001b[0;34m=\u001b[0m\u001b[0mself\u001b[0m\u001b[0;34m.\u001b[0m\u001b[0mW\u001b[0m\u001b[0;34m)\u001b[0m\u001b[0;34m\u001b[0m\u001b[0;34m\u001b[0m\u001b[0m\n\u001b[1;32m     96\u001b[0m         \u001b[0mself\u001b[0m\u001b[0;34m.\u001b[0m\u001b[0moptimizer\u001b[0m\u001b[0;34m.\u001b[0m\u001b[0mparam_groups\u001b[0m\u001b[0;34m[\u001b[0m\u001b[0;36m0\u001b[0m\u001b[0;34m]\u001b[0m\u001b[0;34m[\u001b[0m\u001b[0;34m\"lr\"\u001b[0m\u001b[0;34m]\u001b[0m\u001b[0;34m*=\u001b[0m\u001b[0;36m0.99\u001b[0m\u001b[0;34m\u001b[0m\u001b[0;34m\u001b[0m\u001b[0m\n\u001b[0;32m---> 97\u001b[0;31m         \u001b[0mtrain_stats\u001b[0m \u001b[0;34m=\u001b[0m \u001b[0mself\u001b[0m\u001b[0;34m.\u001b[0m\u001b[0mtrain_op\u001b[0m\u001b[0;34m(\u001b[0m\u001b[0mself\u001b[0m\u001b[0;34m.\u001b[0m\u001b[0mmodel\u001b[0m\u001b[0;34m,\u001b[0m \u001b[0mself\u001b[0m\u001b[0;34m.\u001b[0m\u001b[0mtrain_loader\u001b[0m \u001b[0;32mif\u001b[0m \u001b[0;32mnot\u001b[0m \u001b[0mloader\u001b[0m \u001b[0;32melse\u001b[0m \u001b[0mloader\u001b[0m\u001b[0;34m,\u001b[0m \u001b[0mself\u001b[0m\u001b[0;34m.\u001b[0m\u001b[0moptimizer\u001b[0m\u001b[0;34m,\u001b[0m \u001b[0mepochs\u001b[0m\u001b[0;34m)\u001b[0m\u001b[0;34m\u001b[0m\u001b[0;34m\u001b[0m\u001b[0m\n\u001b[0m\u001b[1;32m     98\u001b[0m         \u001b[0msubtract_\u001b[0m\u001b[0;34m(\u001b[0m\u001b[0mtarget\u001b[0m\u001b[0;34m=\u001b[0m\u001b[0mself\u001b[0m\u001b[0;34m.\u001b[0m\u001b[0mdW\u001b[0m\u001b[0;34m,\u001b[0m \u001b[0mminuend\u001b[0m\u001b[0;34m=\u001b[0m\u001b[0mself\u001b[0m\u001b[0;34m.\u001b[0m\u001b[0mW\u001b[0m\u001b[0;34m,\u001b[0m \u001b[0msubtrahend\u001b[0m\u001b[0;34m=\u001b[0m\u001b[0mself\u001b[0m\u001b[0;34m.\u001b[0m\u001b[0mW_old\u001b[0m\u001b[0;34m)\u001b[0m\u001b[0;34m\u001b[0m\u001b[0;34m\u001b[0m\u001b[0m\n\u001b[1;32m     99\u001b[0m         \u001b[0;32mreturn\u001b[0m \u001b[0mtrain_stats\u001b[0m\u001b[0;34m\u001b[0m\u001b[0;34m\u001b[0m\u001b[0m\n",
      "\u001b[0;32m/content/fl_devices.py\u001b[0m in \u001b[0;36mtrain_op\u001b[0;34m(self, model, loader, optimizer, epochs)\u001b[0m\n\u001b[1;32m    106\u001b[0m         \u001b[0;32mfor\u001b[0m \u001b[0mep\u001b[0m \u001b[0;32min\u001b[0m \u001b[0mrange\u001b[0m\u001b[0;34m(\u001b[0m\u001b[0mepochs\u001b[0m\u001b[0;34m)\u001b[0m\u001b[0;34m:\u001b[0m\u001b[0;34m\u001b[0m\u001b[0;34m\u001b[0m\u001b[0m\n\u001b[1;32m    107\u001b[0m             \u001b[0mrunning_loss\u001b[0m\u001b[0;34m,\u001b[0m \u001b[0msamples\u001b[0m \u001b[0;34m=\u001b[0m \u001b[0;36m0.0\u001b[0m\u001b[0;34m,\u001b[0m \u001b[0;36m0\u001b[0m\u001b[0;34m\u001b[0m\u001b[0;34m\u001b[0m\u001b[0m\n\u001b[0;32m--> 108\u001b[0;31m             \u001b[0;32mfor\u001b[0m \u001b[0mx\u001b[0m\u001b[0;34m,\u001b[0m \u001b[0my\u001b[0m \u001b[0;32min\u001b[0m \u001b[0mloader\u001b[0m\u001b[0;34m:\u001b[0m\u001b[0;34m\u001b[0m\u001b[0;34m\u001b[0m\u001b[0m\n\u001b[0m\u001b[1;32m    109\u001b[0m                 \u001b[0;31m# adversary: handle labels\u001b[0m\u001b[0;34m\u001b[0m\u001b[0;34m\u001b[0m\u001b[0;34m\u001b[0m\u001b[0m\n\u001b[1;32m    110\u001b[0m                 \u001b[0;32mif\u001b[0m \u001b[0mself\u001b[0m\u001b[0;34m.\u001b[0m\u001b[0mclient_mode\u001b[0m \u001b[0;34m==\u001b[0m \u001b[0;34m'swap'\u001b[0m\u001b[0;34m:\u001b[0m\u001b[0;34m\u001b[0m\u001b[0;34m\u001b[0m\u001b[0m\n",
      "\u001b[0;32m/usr/local/lib/python3.6/dist-packages/torch/utils/data/dataloader.py\u001b[0m in \u001b[0;36m__next__\u001b[0;34m(self)\u001b[0m\n\u001b[1;32m    433\u001b[0m         \u001b[0;32mif\u001b[0m \u001b[0mself\u001b[0m\u001b[0;34m.\u001b[0m\u001b[0m_sampler_iter\u001b[0m \u001b[0;32mis\u001b[0m \u001b[0;32mNone\u001b[0m\u001b[0;34m:\u001b[0m\u001b[0;34m\u001b[0m\u001b[0;34m\u001b[0m\u001b[0m\n\u001b[1;32m    434\u001b[0m             \u001b[0mself\u001b[0m\u001b[0;34m.\u001b[0m\u001b[0m_reset\u001b[0m\u001b[0;34m(\u001b[0m\u001b[0;34m)\u001b[0m\u001b[0;34m\u001b[0m\u001b[0;34m\u001b[0m\u001b[0m\n\u001b[0;32m--> 435\u001b[0;31m         \u001b[0mdata\u001b[0m \u001b[0;34m=\u001b[0m \u001b[0mself\u001b[0m\u001b[0;34m.\u001b[0m\u001b[0m_next_data\u001b[0m\u001b[0;34m(\u001b[0m\u001b[0;34m)\u001b[0m\u001b[0;34m\u001b[0m\u001b[0;34m\u001b[0m\u001b[0m\n\u001b[0m\u001b[1;32m    436\u001b[0m         \u001b[0mself\u001b[0m\u001b[0;34m.\u001b[0m\u001b[0m_num_yielded\u001b[0m \u001b[0;34m+=\u001b[0m \u001b[0;36m1\u001b[0m\u001b[0;34m\u001b[0m\u001b[0;34m\u001b[0m\u001b[0m\n\u001b[1;32m    437\u001b[0m         \u001b[0;32mif\u001b[0m \u001b[0mself\u001b[0m\u001b[0;34m.\u001b[0m\u001b[0m_dataset_kind\u001b[0m \u001b[0;34m==\u001b[0m \u001b[0m_DatasetKind\u001b[0m\u001b[0;34m.\u001b[0m\u001b[0mIterable\u001b[0m \u001b[0;32mand\u001b[0m\u001b[0;31m \u001b[0m\u001b[0;31m\\\u001b[0m\u001b[0;34m\u001b[0m\u001b[0;34m\u001b[0m\u001b[0m\n",
      "\u001b[0;32m/usr/local/lib/python3.6/dist-packages/torch/utils/data/dataloader.py\u001b[0m in \u001b[0;36m_next_data\u001b[0;34m(self)\u001b[0m\n\u001b[1;32m    473\u001b[0m     \u001b[0;32mdef\u001b[0m \u001b[0m_next_data\u001b[0m\u001b[0;34m(\u001b[0m\u001b[0mself\u001b[0m\u001b[0;34m)\u001b[0m\u001b[0;34m:\u001b[0m\u001b[0;34m\u001b[0m\u001b[0;34m\u001b[0m\u001b[0m\n\u001b[1;32m    474\u001b[0m         \u001b[0mindex\u001b[0m \u001b[0;34m=\u001b[0m \u001b[0mself\u001b[0m\u001b[0;34m.\u001b[0m\u001b[0m_next_index\u001b[0m\u001b[0;34m(\u001b[0m\u001b[0;34m)\u001b[0m  \u001b[0;31m# may raise StopIteration\u001b[0m\u001b[0;34m\u001b[0m\u001b[0;34m\u001b[0m\u001b[0m\n\u001b[0;32m--> 475\u001b[0;31m         \u001b[0mdata\u001b[0m \u001b[0;34m=\u001b[0m \u001b[0mself\u001b[0m\u001b[0;34m.\u001b[0m\u001b[0m_dataset_fetcher\u001b[0m\u001b[0;34m.\u001b[0m\u001b[0mfetch\u001b[0m\u001b[0;34m(\u001b[0m\u001b[0mindex\u001b[0m\u001b[0;34m)\u001b[0m  \u001b[0;31m# may raise StopIteration\u001b[0m\u001b[0;34m\u001b[0m\u001b[0;34m\u001b[0m\u001b[0m\n\u001b[0m\u001b[1;32m    476\u001b[0m         \u001b[0;32mif\u001b[0m \u001b[0mself\u001b[0m\u001b[0;34m.\u001b[0m\u001b[0m_pin_memory\u001b[0m\u001b[0;34m:\u001b[0m\u001b[0;34m\u001b[0m\u001b[0;34m\u001b[0m\u001b[0m\n\u001b[1;32m    477\u001b[0m             \u001b[0mdata\u001b[0m \u001b[0;34m=\u001b[0m \u001b[0m_utils\u001b[0m\u001b[0;34m.\u001b[0m\u001b[0mpin_memory\u001b[0m\u001b[0;34m.\u001b[0m\u001b[0mpin_memory\u001b[0m\u001b[0;34m(\u001b[0m\u001b[0mdata\u001b[0m\u001b[0;34m)\u001b[0m\u001b[0;34m\u001b[0m\u001b[0;34m\u001b[0m\u001b[0m\n",
      "\u001b[0;32m/usr/local/lib/python3.6/dist-packages/torch/utils/data/_utils/fetch.py\u001b[0m in \u001b[0;36mfetch\u001b[0;34m(self, possibly_batched_index)\u001b[0m\n\u001b[1;32m     42\u001b[0m     \u001b[0;32mdef\u001b[0m \u001b[0mfetch\u001b[0m\u001b[0;34m(\u001b[0m\u001b[0mself\u001b[0m\u001b[0;34m,\u001b[0m \u001b[0mpossibly_batched_index\u001b[0m\u001b[0;34m)\u001b[0m\u001b[0;34m:\u001b[0m\u001b[0;34m\u001b[0m\u001b[0;34m\u001b[0m\u001b[0m\n\u001b[1;32m     43\u001b[0m         \u001b[0;32mif\u001b[0m \u001b[0mself\u001b[0m\u001b[0;34m.\u001b[0m\u001b[0mauto_collation\u001b[0m\u001b[0;34m:\u001b[0m\u001b[0;34m\u001b[0m\u001b[0;34m\u001b[0m\u001b[0m\n\u001b[0;32m---> 44\u001b[0;31m             \u001b[0mdata\u001b[0m \u001b[0;34m=\u001b[0m \u001b[0;34m[\u001b[0m\u001b[0mself\u001b[0m\u001b[0;34m.\u001b[0m\u001b[0mdataset\u001b[0m\u001b[0;34m[\u001b[0m\u001b[0midx\u001b[0m\u001b[0;34m]\u001b[0m \u001b[0;32mfor\u001b[0m \u001b[0midx\u001b[0m \u001b[0;32min\u001b[0m \u001b[0mpossibly_batched_index\u001b[0m\u001b[0;34m]\u001b[0m\u001b[0;34m\u001b[0m\u001b[0;34m\u001b[0m\u001b[0m\n\u001b[0m\u001b[1;32m     45\u001b[0m         \u001b[0;32melse\u001b[0m\u001b[0;34m:\u001b[0m\u001b[0;34m\u001b[0m\u001b[0;34m\u001b[0m\u001b[0m\n\u001b[1;32m     46\u001b[0m             \u001b[0mdata\u001b[0m \u001b[0;34m=\u001b[0m \u001b[0mself\u001b[0m\u001b[0;34m.\u001b[0m\u001b[0mdataset\u001b[0m\u001b[0;34m[\u001b[0m\u001b[0mpossibly_batched_index\u001b[0m\u001b[0;34m]\u001b[0m\u001b[0;34m\u001b[0m\u001b[0;34m\u001b[0m\u001b[0m\n",
      "\u001b[0;32m/usr/local/lib/python3.6/dist-packages/torch/utils/data/_utils/fetch.py\u001b[0m in \u001b[0;36m<listcomp>\u001b[0;34m(.0)\u001b[0m\n\u001b[1;32m     42\u001b[0m     \u001b[0;32mdef\u001b[0m \u001b[0mfetch\u001b[0m\u001b[0;34m(\u001b[0m\u001b[0mself\u001b[0m\u001b[0;34m,\u001b[0m \u001b[0mpossibly_batched_index\u001b[0m\u001b[0;34m)\u001b[0m\u001b[0;34m:\u001b[0m\u001b[0;34m\u001b[0m\u001b[0;34m\u001b[0m\u001b[0m\n\u001b[1;32m     43\u001b[0m         \u001b[0;32mif\u001b[0m \u001b[0mself\u001b[0m\u001b[0;34m.\u001b[0m\u001b[0mauto_collation\u001b[0m\u001b[0;34m:\u001b[0m\u001b[0;34m\u001b[0m\u001b[0;34m\u001b[0m\u001b[0m\n\u001b[0;32m---> 44\u001b[0;31m             \u001b[0mdata\u001b[0m \u001b[0;34m=\u001b[0m \u001b[0;34m[\u001b[0m\u001b[0mself\u001b[0m\u001b[0;34m.\u001b[0m\u001b[0mdataset\u001b[0m\u001b[0;34m[\u001b[0m\u001b[0midx\u001b[0m\u001b[0;34m]\u001b[0m \u001b[0;32mfor\u001b[0m \u001b[0midx\u001b[0m \u001b[0;32min\u001b[0m \u001b[0mpossibly_batched_index\u001b[0m\u001b[0;34m]\u001b[0m\u001b[0;34m\u001b[0m\u001b[0;34m\u001b[0m\u001b[0m\n\u001b[0m\u001b[1;32m     45\u001b[0m         \u001b[0;32melse\u001b[0m\u001b[0;34m:\u001b[0m\u001b[0;34m\u001b[0m\u001b[0;34m\u001b[0m\u001b[0m\n\u001b[1;32m     46\u001b[0m             \u001b[0mdata\u001b[0m \u001b[0;34m=\u001b[0m \u001b[0mself\u001b[0m\u001b[0;34m.\u001b[0m\u001b[0mdataset\u001b[0m\u001b[0;34m[\u001b[0m\u001b[0mpossibly_batched_index\u001b[0m\u001b[0;34m]\u001b[0m\u001b[0;34m\u001b[0m\u001b[0;34m\u001b[0m\u001b[0m\n",
      "\u001b[0;32m/usr/local/lib/python3.6/dist-packages/torch/utils/data/dataset.py\u001b[0m in \u001b[0;36m__getitem__\u001b[0;34m(self, idx)\u001b[0m\n\u001b[1;32m    270\u001b[0m \u001b[0;34m\u001b[0m\u001b[0m\n\u001b[1;32m    271\u001b[0m     \u001b[0;32mdef\u001b[0m \u001b[0m__getitem__\u001b[0m\u001b[0;34m(\u001b[0m\u001b[0mself\u001b[0m\u001b[0;34m,\u001b[0m \u001b[0midx\u001b[0m\u001b[0;34m)\u001b[0m\u001b[0;34m:\u001b[0m\u001b[0;34m\u001b[0m\u001b[0;34m\u001b[0m\u001b[0m\n\u001b[0;32m--> 272\u001b[0;31m         \u001b[0;32mreturn\u001b[0m \u001b[0mself\u001b[0m\u001b[0;34m.\u001b[0m\u001b[0mdataset\u001b[0m\u001b[0;34m[\u001b[0m\u001b[0mself\u001b[0m\u001b[0;34m.\u001b[0m\u001b[0mindices\u001b[0m\u001b[0;34m[\u001b[0m\u001b[0midx\u001b[0m\u001b[0;34m]\u001b[0m\u001b[0;34m]\u001b[0m\u001b[0;34m\u001b[0m\u001b[0;34m\u001b[0m\u001b[0m\n\u001b[0m\u001b[1;32m    273\u001b[0m \u001b[0;34m\u001b[0m\u001b[0m\n\u001b[1;32m    274\u001b[0m     \u001b[0;32mdef\u001b[0m \u001b[0m__len__\u001b[0m\u001b[0;34m(\u001b[0m\u001b[0mself\u001b[0m\u001b[0;34m)\u001b[0m\u001b[0;34m:\u001b[0m\u001b[0;34m\u001b[0m\u001b[0;34m\u001b[0m\u001b[0m\n",
      "\u001b[0;32m/content/data_utils.py\u001b[0m in \u001b[0;36m__getitem__\u001b[0;34m(self, index)\u001b[0m\n\u001b[1;32m     87\u001b[0m \u001b[0;34m\u001b[0m\u001b[0m\n\u001b[1;32m     88\u001b[0m         \u001b[0;32mif\u001b[0m \u001b[0mself\u001b[0m\u001b[0;34m.\u001b[0m\u001b[0mtransforms\u001b[0m \u001b[0;32mis\u001b[0m \u001b[0;32mnot\u001b[0m \u001b[0;32mNone\u001b[0m\u001b[0;34m:\u001b[0m\u001b[0;34m\u001b[0m\u001b[0;34m\u001b[0m\u001b[0m\n\u001b[0;32m---> 89\u001b[0;31m             \u001b[0mimg\u001b[0m \u001b[0;34m=\u001b[0m \u001b[0mself\u001b[0m\u001b[0;34m.\u001b[0m\u001b[0mtransforms\u001b[0m\u001b[0;34m(\u001b[0m\u001b[0mimg\u001b[0m\u001b[0;34m)\u001b[0m\u001b[0;34m\u001b[0m\u001b[0;34m\u001b[0m\u001b[0m\n\u001b[0m\u001b[1;32m     90\u001b[0m \u001b[0;34m\u001b[0m\u001b[0m\n\u001b[1;32m     91\u001b[0m         \u001b[0;32mreturn\u001b[0m \u001b[0;34m(\u001b[0m\u001b[0mimg\u001b[0m\u001b[0;34m,\u001b[0m \u001b[0mlabel\u001b[0m\u001b[0;34m)\u001b[0m\u001b[0;34m\u001b[0m\u001b[0;34m\u001b[0m\u001b[0m\n",
      "\u001b[0;32m/usr/local/lib/python3.6/dist-packages/torchvision/transforms/transforms.py\u001b[0m in \u001b[0;36m__call__\u001b[0;34m(self, img)\u001b[0m\n\u001b[1;32m     65\u001b[0m     \u001b[0;32mdef\u001b[0m \u001b[0m__call__\u001b[0m\u001b[0;34m(\u001b[0m\u001b[0mself\u001b[0m\u001b[0;34m,\u001b[0m \u001b[0mimg\u001b[0m\u001b[0;34m)\u001b[0m\u001b[0;34m:\u001b[0m\u001b[0;34m\u001b[0m\u001b[0;34m\u001b[0m\u001b[0m\n\u001b[1;32m     66\u001b[0m         \u001b[0;32mfor\u001b[0m \u001b[0mt\u001b[0m \u001b[0;32min\u001b[0m \u001b[0mself\u001b[0m\u001b[0;34m.\u001b[0m\u001b[0mtransforms\u001b[0m\u001b[0;34m:\u001b[0m\u001b[0;34m\u001b[0m\u001b[0;34m\u001b[0m\u001b[0m\n\u001b[0;32m---> 67\u001b[0;31m             \u001b[0mimg\u001b[0m \u001b[0;34m=\u001b[0m \u001b[0mt\u001b[0m\u001b[0;34m(\u001b[0m\u001b[0mimg\u001b[0m\u001b[0;34m)\u001b[0m\u001b[0;34m\u001b[0m\u001b[0;34m\u001b[0m\u001b[0m\n\u001b[0m\u001b[1;32m     68\u001b[0m         \u001b[0;32mreturn\u001b[0m \u001b[0mimg\u001b[0m\u001b[0;34m\u001b[0m\u001b[0;34m\u001b[0m\u001b[0m\n\u001b[1;32m     69\u001b[0m \u001b[0;34m\u001b[0m\u001b[0m\n",
      "\u001b[0;32m/usr/local/lib/python3.6/dist-packages/torch/nn/modules/module.py\u001b[0m in \u001b[0;36m_call_impl\u001b[0;34m(self, *input, **kwargs)\u001b[0m\n\u001b[1;32m    725\u001b[0m             \u001b[0mresult\u001b[0m \u001b[0;34m=\u001b[0m \u001b[0mself\u001b[0m\u001b[0;34m.\u001b[0m\u001b[0m_slow_forward\u001b[0m\u001b[0;34m(\u001b[0m\u001b[0;34m*\u001b[0m\u001b[0minput\u001b[0m\u001b[0;34m,\u001b[0m \u001b[0;34m**\u001b[0m\u001b[0mkwargs\u001b[0m\u001b[0;34m)\u001b[0m\u001b[0;34m\u001b[0m\u001b[0;34m\u001b[0m\u001b[0m\n\u001b[1;32m    726\u001b[0m         \u001b[0;32melse\u001b[0m\u001b[0;34m:\u001b[0m\u001b[0;34m\u001b[0m\u001b[0;34m\u001b[0m\u001b[0m\n\u001b[0;32m--> 727\u001b[0;31m             \u001b[0mresult\u001b[0m \u001b[0;34m=\u001b[0m \u001b[0mself\u001b[0m\u001b[0;34m.\u001b[0m\u001b[0mforward\u001b[0m\u001b[0;34m(\u001b[0m\u001b[0;34m*\u001b[0m\u001b[0minput\u001b[0m\u001b[0;34m,\u001b[0m \u001b[0;34m**\u001b[0m\u001b[0mkwargs\u001b[0m\u001b[0;34m)\u001b[0m\u001b[0;34m\u001b[0m\u001b[0;34m\u001b[0m\u001b[0m\n\u001b[0m\u001b[1;32m    728\u001b[0m         for hook in itertools.chain(\n\u001b[1;32m    729\u001b[0m                 \u001b[0m_global_forward_hooks\u001b[0m\u001b[0;34m.\u001b[0m\u001b[0mvalues\u001b[0m\u001b[0;34m(\u001b[0m\u001b[0;34m)\u001b[0m\u001b[0;34m,\u001b[0m\u001b[0;34m\u001b[0m\u001b[0;34m\u001b[0m\u001b[0m\n",
      "\u001b[0;32m/usr/local/lib/python3.6/dist-packages/torchvision/transforms/transforms.py\u001b[0m in \u001b[0;36mforward\u001b[0;34m(self, tensor)\u001b[0m\n\u001b[1;32m    224\u001b[0m             \u001b[0mTensor\u001b[0m\u001b[0;34m:\u001b[0m \u001b[0mNormalized\u001b[0m \u001b[0mTensor\u001b[0m \u001b[0mimage\u001b[0m\u001b[0;34m.\u001b[0m\u001b[0;34m\u001b[0m\u001b[0;34m\u001b[0m\u001b[0m\n\u001b[1;32m    225\u001b[0m         \"\"\"\n\u001b[0;32m--> 226\u001b[0;31m         \u001b[0;32mreturn\u001b[0m \u001b[0mF\u001b[0m\u001b[0;34m.\u001b[0m\u001b[0mnormalize\u001b[0m\u001b[0;34m(\u001b[0m\u001b[0mtensor\u001b[0m\u001b[0;34m,\u001b[0m \u001b[0mself\u001b[0m\u001b[0;34m.\u001b[0m\u001b[0mmean\u001b[0m\u001b[0;34m,\u001b[0m \u001b[0mself\u001b[0m\u001b[0;34m.\u001b[0m\u001b[0mstd\u001b[0m\u001b[0;34m,\u001b[0m \u001b[0mself\u001b[0m\u001b[0;34m.\u001b[0m\u001b[0minplace\u001b[0m\u001b[0;34m)\u001b[0m\u001b[0;34m\u001b[0m\u001b[0;34m\u001b[0m\u001b[0m\n\u001b[0m\u001b[1;32m    227\u001b[0m \u001b[0;34m\u001b[0m\u001b[0m\n\u001b[1;32m    228\u001b[0m     \u001b[0;32mdef\u001b[0m \u001b[0m__repr__\u001b[0m\u001b[0;34m(\u001b[0m\u001b[0mself\u001b[0m\u001b[0;34m)\u001b[0m\u001b[0;34m:\u001b[0m\u001b[0;34m\u001b[0m\u001b[0;34m\u001b[0m\u001b[0m\n",
      "\u001b[0;32m/usr/local/lib/python3.6/dist-packages/torchvision/transforms/functional.py\u001b[0m in \u001b[0;36mnormalize\u001b[0;34m(tensor, mean, std, inplace)\u001b[0m\n\u001b[1;32m    274\u001b[0m \u001b[0;34m\u001b[0m\u001b[0m\n\u001b[1;32m    275\u001b[0m     \u001b[0mdtype\u001b[0m \u001b[0;34m=\u001b[0m \u001b[0mtensor\u001b[0m\u001b[0;34m.\u001b[0m\u001b[0mdtype\u001b[0m\u001b[0;34m\u001b[0m\u001b[0;34m\u001b[0m\u001b[0m\n\u001b[0;32m--> 276\u001b[0;31m     \u001b[0mmean\u001b[0m \u001b[0;34m=\u001b[0m \u001b[0mtorch\u001b[0m\u001b[0;34m.\u001b[0m\u001b[0mas_tensor\u001b[0m\u001b[0;34m(\u001b[0m\u001b[0mmean\u001b[0m\u001b[0;34m,\u001b[0m \u001b[0mdtype\u001b[0m\u001b[0;34m=\u001b[0m\u001b[0mdtype\u001b[0m\u001b[0;34m,\u001b[0m \u001b[0mdevice\u001b[0m\u001b[0;34m=\u001b[0m\u001b[0mtensor\u001b[0m\u001b[0;34m.\u001b[0m\u001b[0mdevice\u001b[0m\u001b[0;34m)\u001b[0m\u001b[0;34m\u001b[0m\u001b[0;34m\u001b[0m\u001b[0m\n\u001b[0m\u001b[1;32m    277\u001b[0m     \u001b[0mstd\u001b[0m \u001b[0;34m=\u001b[0m \u001b[0mtorch\u001b[0m\u001b[0;34m.\u001b[0m\u001b[0mas_tensor\u001b[0m\u001b[0;34m(\u001b[0m\u001b[0mstd\u001b[0m\u001b[0;34m,\u001b[0m \u001b[0mdtype\u001b[0m\u001b[0;34m=\u001b[0m\u001b[0mdtype\u001b[0m\u001b[0;34m,\u001b[0m \u001b[0mdevice\u001b[0m\u001b[0;34m=\u001b[0m\u001b[0mtensor\u001b[0m\u001b[0;34m.\u001b[0m\u001b[0mdevice\u001b[0m\u001b[0;34m)\u001b[0m\u001b[0;34m\u001b[0m\u001b[0;34m\u001b[0m\u001b[0m\n\u001b[1;32m    278\u001b[0m     \u001b[0;32mif\u001b[0m \u001b[0;34m(\u001b[0m\u001b[0mstd\u001b[0m \u001b[0;34m==\u001b[0m \u001b[0;36m0\u001b[0m\u001b[0;34m)\u001b[0m\u001b[0;34m.\u001b[0m\u001b[0many\u001b[0m\u001b[0;34m(\u001b[0m\u001b[0;34m)\u001b[0m\u001b[0;34m:\u001b[0m\u001b[0;34m\u001b[0m\u001b[0;34m\u001b[0m\u001b[0m\n",
      "\u001b[0;31mKeyboardInterrupt\u001b[0m: "
     ]
    }
   ],
   "source": [
    "# for each combination of esp, min_samples, metric\n",
    "# run multiple trials, do clustering at each round\n",
    "# to find the round number before clustering that have best adversary-identificaiton rate\n",
    "# no need to handle any adversary detected yet\n",
    "\n",
    "for esp in esp_vals:\n",
    "    for min_samples in min_samples_vals:\n",
    "        for metric in metric_vals:\n",
    "            counter_key = (esp, min_samples, metric)\n",
    "            \n",
    "            # run multiple trials\n",
    "            for trial in range(TOTAL_TRIAL):\n",
    "                # communication rounds in FL\n",
    "                for round in range(TOTAL_ROUND):\n",
    "                        if round == 0:\n",
    "                            for client in clients:\n",
    "                                client.synchronize_with_server(server)\n",
    "\n",
    "                        participating_clients = server.select_clients(clients, frac=1.0)\n",
    "\n",
    "                        for client in participating_clients:\n",
    "                            train_stats = client.compute_weight_update(epochs=1)\n",
    "                            client.reset()\n",
    "\n",
    "                        # generate feature matrix for clustering\n",
    "                        client_dW_dicts = [client.dW for client in clients]\n",
    "                        feature_matrix = generate_feature_matrix(client_dW_dicts)\n",
    "\n",
    "                        # detect adversary using clustering\n",
    "                        detect_adv_idx = server.detect_adversary(feature_matrix, esp, min_samples, metric)\n",
    "                        detect_result = check_detect(detect_adv_idx, adv_idx)\n",
    "\n",
    "                        if detect_result:\n",
    "                            detect_counter[counter_key][round] += 1\n",
    "                        \n",
    "                        # aggregate weight updates; copy new weights to clients\n",
    "                        server.aggregate_weight_updates(clients)\n",
    "                        server.copy_weights(clients)\n",
    "                        print(round)\n",
    "                print(trial)"
   ]
  },
  {
   "cell_type": "code",
   "execution_count": null,
   "metadata": {
    "colab": {
     "base_uri": "https://localhost:8080/"
    },
    "id": "YW4w4YuheHKf",
    "outputId": "7a61101c-5df7-4df6-90e5-22eb1dea6cf3"
   },
   "outputs": [
    {
     "data": {
      "text/plain": [
       "defaultdict(<function __main__.<lambda>>, {})"
      ]
     },
     "execution_count": 16,
     "metadata": {
      "tags": []
     },
     "output_type": "execute_result"
    }
   ],
   "source": [
    "detect_counter"
   ]
  },
  {
   "cell_type": "code",
   "execution_count": null,
   "metadata": {
    "colab": {
     "base_uri": "https://localhost:8080/"
    },
    "id": "nMGNukWEeHKf",
    "outputId": "54914438-6e64-412c-b2fc-1781f2a6a1c3"
   },
   "outputs": [
    {
     "data": {
      "text/plain": [
       "False"
      ]
     },
     "execution_count": 18,
     "metadata": {
      "tags": []
     },
     "output_type": "execute_result"
    }
   ],
   "source": [
    "detect_result"
   ]
  },
  {
   "cell_type": "code",
   "execution_count": null,
   "metadata": {
    "id": "GOAWUEcxeHKf"
   },
   "outputs": [],
   "source": [
    "for key, value in client_dW_dicts[0].items():\n",
    "    break"
   ]
  },
  {
   "cell_type": "code",
   "execution_count": null,
   "metadata": {
    "id": "RuxCsHEGeHKf",
    "outputId": "e3cc902b-0a1f-427e-dca5-76c079c88d85"
   },
   "outputs": [
    {
     "data": {
      "text/plain": [
       "tensor([[[[-0.2654, -0.0482, -0.1496, -0.3325, -0.3268],\n",
       "          [-0.1360, -0.0854, -0.1224, -0.2835, -0.2216],\n",
       "          [-0.2093, -0.5409, -0.4456, -0.1587, -0.1258],\n",
       "          [ 0.2039,  0.1777, -0.3295, -0.3602, -0.5164],\n",
       "          [ 0.0288,  0.3881,  0.2621,  0.0013, -0.6501]]],\n",
       "\n",
       "\n",
       "        [[[-0.1701, -0.1969,  0.0160, -0.2379, -0.5600],\n",
       "          [-0.2053, -0.1223, -0.0209, -0.3452, -0.5991],\n",
       "          [ 0.0276, -0.0528, -0.3311, -0.4907, -0.4634],\n",
       "          [-0.2149, -0.4171, -0.1711, -0.3538, -0.1690],\n",
       "          [-0.4859, -0.1660, -0.1544, -0.3510,  0.1855]]],\n",
       "\n",
       "\n",
       "        [[[-0.4662, -0.3984, -0.0946, -0.0421, -0.5252],\n",
       "          [-0.6843, -0.3122,  0.0254, -0.5276, -0.4501],\n",
       "          [-0.6525, -0.2118, -0.5211, -0.5835, -0.0685],\n",
       "          [-0.7327, -0.7185, -0.6613, -0.4881, -0.4985],\n",
       "          [-0.5199, -0.2257, -0.1146, -0.2158, -0.6134]]],\n",
       "\n",
       "\n",
       "        [[[-0.5786,  0.2038,  0.1686, -0.2504, -0.4746],\n",
       "          [ 0.0479,  0.2259, -0.2854, -0.3259, -0.0872],\n",
       "          [-0.2300, -0.2347, -0.2384,  0.0333, -0.0968],\n",
       "          [-0.5722, -0.5749, -0.3461,  0.1614,  0.1151],\n",
       "          [-0.4507, -0.0762, -0.0544, -0.2236, -0.5499]]],\n",
       "\n",
       "\n",
       "        [[[-0.5508, -0.0024, -0.2934, -0.5146, -0.6668],\n",
       "          [-0.3357, -0.0234, -0.2811, -0.5620, -0.4653],\n",
       "          [-0.1445, -0.1035, -0.4292, -0.4570,  0.0483],\n",
       "          [-0.1576, -0.5617, -0.5093,  0.1269,  0.1892],\n",
       "          [-0.7808, -0.8154,  0.1072,  0.0198,  0.0221]]],\n",
       "\n",
       "\n",
       "        [[[-0.2948, -0.1947, -0.2820, -0.4060,  0.1414],\n",
       "          [-0.2849, -0.2130, -0.0517, -0.0639, -0.0426],\n",
       "          [-0.2692, -0.0573,  0.0099, -0.0129,  0.1875],\n",
       "          [-0.1388, -0.1371, -0.1163, -0.1570, -0.0492],\n",
       "          [-0.0808,  0.0537, -0.1361, -0.2052, -0.7244]]]])"
      ]
     },
     "execution_count": 23,
     "metadata": {
      "tags": []
     },
     "output_type": "execute_result"
    }
   ],
   "source": [
    "value"
   ]
  },
  {
   "cell_type": "code",
   "execution_count": null,
   "metadata": {
    "id": "gYABA48MeHKg"
   },
   "outputs": [],
   "source": []
  },
  {
   "cell_type": "code",
   "execution_count": null,
   "metadata": {
    "id": "_VHE6blGeHKg"
   },
   "outputs": [],
   "source": []
  },
  {
   "cell_type": "code",
   "execution_count": null,
   "metadata": {
    "id": "h16tkVcqeHKg"
   },
   "outputs": [],
   "source": []
  },
  {
   "cell_type": "code",
   "execution_count": null,
   "metadata": {
    "id": "B_VLyOlpeHKg"
   },
   "outputs": [],
   "source": []
  },
  {
   "cell_type": "code",
   "execution_count": null,
   "metadata": {
    "id": "CRN5ax7BeHKg"
   },
   "outputs": [],
   "source": []
  },
  {
   "cell_type": "code",
   "execution_count": null,
   "metadata": {
    "id": "rTmncOZyeHKg"
   },
   "outputs": [],
   "source": []
  }
 ],
 "metadata": {
  "accelerator": "GPU",
  "colab": {
   "name": "adv_detection.ipynb",
   "provenance": []
  },
  "kernelspec": {
   "display_name": "Python 3",
   "language": "python",
   "name": "python3"
  },
  "language_info": {
   "codemirror_mode": {
    "name": "ipython",
    "version": 3
   },
   "file_extension": ".py",
   "mimetype": "text/x-python",
   "name": "python",
   "nbconvert_exporter": "python",
   "pygments_lexer": "ipython3",
   "version": "3.8.5"
  }
 },
 "nbformat": 4,
 "nbformat_minor": 1
}
