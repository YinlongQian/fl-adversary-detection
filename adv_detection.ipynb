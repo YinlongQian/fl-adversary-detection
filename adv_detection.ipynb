{
 "cells": [
  {
   "cell_type": "code",
   "execution_count": 49,
   "metadata": {},
   "outputs": [],
   "source": [
    "%matplotlib inline\n",
    "\n",
    "import torch\n",
    "import torchvision\n",
    "from torch.utils.data import DataLoader\n",
    "\n",
    "import numpy as np\n",
    "import matplotlib.pyplot as plt\n",
    "import random\n",
    "from collections import defaultdict\n",
    "\n",
    "from models import ConvNet\n",
    "from fl_devices import Server, Client\n",
    "\n",
    "torch.manual_seed(0)\n",
    "random.seed(0)\n",
    "np.random.seed(0)"
   ]
  },
  {
   "cell_type": "code",
   "execution_count": null,
   "metadata": {},
   "outputs": [],
   "source": [
    "# helper functions\n",
    "\n",
    "# detect_adv_idx: adverary indices detected by server\n",
    "# gt_adv_idx: ground-truth indices\n",
    "def check_detect(detect_adv_idx, gt_adv_idx):\n",
    "    intersection = [idx for idx in gt_adv_idx if idx in detect_adv_idx]\n",
    "    if len(intersection) > 0:\n",
    "        return True\n",
    "    else:\n",
    "        return False\n",
    "    \n",
    "# feature_matrix:\n",
    "# each row is flatten dWs from a client\n",
    "def generate_feature_matrix(dW_dicts):\n",
    "    rows = []\n",
    "    \n",
    "    for dW_dict in dW_dicts:\n",
    "        row = torch.empty(0)\n",
    "        for key, value in dW_dict:\n",
    "            row = torch.cat((row, value.flatten()), 0)\n",
    "        rows.append(row)\n",
    "        \n",
    "    matrix = torch.stack(rows, 0)\n",
    "    return matrix.numpy()"
   ]
  },
  {
   "cell_type": "code",
   "execution_count": null,
   "metadata": {},
   "outputs": [],
   "source": [
    "# hyperparameters\n",
    "N_CLIENT = 25\n",
    "N_ADV = 1\n",
    "\n"
   ]
  },
  {
   "cell_type": "code",
   "execution_count": null,
   "metadata": {},
   "outputs": [],
   "source": [
    "# dataset preprocess\n",
    "# TODO\n",
    "clients = [Client() * N_CLIENT]\n",
    "adv_idx = []"
   ]
  },
  {
   "cell_type": "code",
   "execution_count": 55,
   "metadata": {},
   "outputs": [],
   "source": [
    "# hyperparemeters\n",
    "TOTAL_RUNS = 30\n",
    "TOTAL_ROUNDS = 20\n",
    "\n",
    "esp_vals = [0.1, 0.2, 0.3, 0.4, 0.5]\n",
    "min_samples_vals = [2, 3, 4, 5, 6]\n",
    "metric_vals = ['l1', 'l2', 'cosine']\n",
    "\n",
    "detect_counter = defaultdict(lambda: [0] * TOTAL_ROUNDS)"
   ]
  },
  {
   "cell_type": "code",
   "execution_count": 11,
   "metadata": {},
   "outputs": [],
   "source": [
    "for esp in esp_vals:\n",
    "    for min_samples in min_samples_vals:\n",
    "        for metric in metric_vals:\n",
    "            counter_key = (esp, min_samples, metric)\n",
    "            \n",
    "            for round in range(TOTAL_ROUNDS):\n",
    "                    if round == 0:\n",
    "                        for client in clients:\n",
    "                            client.synchronize_with_server(server)\n",
    "\n",
    "                    participating_clients = server.select_clients(clients, frac=1.0)\n",
    "\n",
    "                    for client in participating_clients:\n",
    "                        train_stats = client.compute_weight_update(epochs=1)\n",
    "                        client.reset()\n",
    "                        \n",
    "                    client_dW_dicts = [client.dW for client in clients]\n",
    "                    feature_matrix = generate_feature_matrix(client_dW_dicts)\n",
    "                    \n",
    "                    detect_adv_idx = server.detect_adversary(feature_matrix, esp, min_samples, metric)\n",
    "                    detect_result = check_detect(detect_adv_idx, adv_idx)\n",
    "                    \n",
    "                    if detect_result:\n",
    "                        detect_counter[counter_key][round] += 1"
   ]
  },
  {
   "cell_type": "code",
   "execution_count": 36,
   "metadata": {},
   "outputs": [],
   "source": [
    "# Plots\n",
    "# TODO\n",
    "x = torch.empty(0)\n",
    "b = torch.tensor([[2.2,3], [2,4]])"
   ]
  },
  {
   "cell_type": "code",
   "execution_count": null,
   "metadata": {},
   "outputs": [],
   "source": []
  },
  {
   "cell_type": "code",
   "execution_count": null,
   "metadata": {},
   "outputs": [],
   "source": []
  },
  {
   "cell_type": "code",
   "execution_count": null,
   "metadata": {},
   "outputs": [],
   "source": []
  },
  {
   "cell_type": "code",
   "execution_count": null,
   "metadata": {},
   "outputs": [],
   "source": []
  },
  {
   "cell_type": "code",
   "execution_count": null,
   "metadata": {},
   "outputs": [],
   "source": []
  },
  {
   "cell_type": "code",
   "execution_count": null,
   "metadata": {},
   "outputs": [],
   "source": []
  },
  {
   "cell_type": "code",
   "execution_count": null,
   "metadata": {},
   "outputs": [],
   "source": []
  },
  {
   "cell_type": "code",
   "execution_count": null,
   "metadata": {},
   "outputs": [],
   "source": []
  }
 ],
 "metadata": {
  "kernelspec": {
   "display_name": "Python 3",
   "language": "python",
   "name": "python3"
  },
  "language_info": {
   "codemirror_mode": {
    "name": "ipython",
    "version": 3
   },
   "file_extension": ".py",
   "mimetype": "text/x-python",
   "name": "python",
   "nbconvert_exporter": "python",
   "pygments_lexer": "ipython3",
   "version": "3.8.5"
  }
 },
 "nbformat": 4,
 "nbformat_minor": 4
}
