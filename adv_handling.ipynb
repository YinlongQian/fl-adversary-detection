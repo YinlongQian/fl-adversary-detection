{
 "cells": [
  {
   "cell_type": "code",
   "execution_count": null,
   "metadata": {},
   "outputs": [],
   "source": [
    "%matplotlib inline\n",
    "\n",
    "import torch\n",
    "import torchvision\n",
    "from torch.utils.data import DataLoader\n",
    "\n",
    "import numpy as np\n",
    "import matplotlib.pyplot as plt\n",
    "import random\n",
    "from collections import defaultdict\n",
    "\n",
    "from models import ConvNet\n",
    "from fl_devices import Server, Client\n",
    "\n",
    "torch.manual_seed(0)\n",
    "random.seed(0)\n",
    "np.random.seed(0)"
   ]
  },
  {
   "cell_type": "code",
   "execution_count": null,
   "metadata": {},
   "outputs": [],
   "source": [
    "# helper functions\n",
    "\n",
    "# feature_matrix:\n",
    "# each row is flatten dWs from a client\n",
    "def generate_feature_matrix(dW_dicts):\n",
    "    rows = []\n",
    "    \n",
    "    for dW_dict in dW_dicts:\n",
    "        row = torch.empty(0)\n",
    "        for key, value in dW_dict:\n",
    "            row = torch.cat((row, value.flatten()), 0)\n",
    "        rows.append(row)\n",
    "        \n",
    "    matrix = torch.stack(rows, 0)\n",
    "    return matrix.numpy()\n",
    "\n",
    "def handle_adversary(clients, adv_idx, handle):\n",
    "    if handle == None:\n",
    "        return clients\n",
    "    elif handle == 'remove':\n",
    "        clients_updated = [clients[client_idx] for client_idx in range(len(clients)) if client_idx not in adv_idx]\n",
    "        return clients_updated\n",
    "    elif:\n",
    "        #TODO\n",
    "        pass"
   ]
  },
  {
   "cell_type": "code",
   "execution_count": null,
   "metadata": {},
   "outputs": [],
   "source": [
    "# hyperparameters\n",
    "N_CLIENT = 25\n",
    "N_ADV = 1\n",
    "\n"
   ]
  },
  {
   "cell_type": "code",
   "execution_count": null,
   "metadata": {},
   "outputs": [],
   "source": [
    "# dataset preprocess\n",
    "# TODO\n",
    "clients = [Client() * N_CLIENT]\n",
    "adv_idx = []"
   ]
  },
  {
   "cell_type": "markdown",
   "metadata": {},
   "source": [
    "## Experiment A: Model Performance\n",
    "Compare model that does handle adversary and model that does NOT handle adversary.\n",
    "\n",
    "Same TOTAL_ROUND -> Different accuracy"
   ]
  },
  {
   "cell_type": "code",
   "execution_count": null,
   "metadata": {},
   "outputs": [],
   "source": [
    "# hyperparemeters\n",
    "TOTAL_TRIAL = 30\n",
    "TOTAL_ROUND = 20\n",
    "DETECT_ROUND = 5\n",
    "\n",
    "ESP = 0.5\n",
    "MIN_SAMPLES = 2\n",
    "METRIC = 'l2'\n",
    "\n",
    "ADV_HANDLE = [None, 'remove', 'reg']\n",
    "\n",
    "model_performance = defaultdict(lambda: [None] * TOTAL_TRIAL)"
   ]
  },
  {
   "cell_type": "code",
   "execution_count": null,
   "metadata": {},
   "outputs": [],
   "source": [
    "for handle in ADV_HANDLE:\n",
    "    for trial in range(TOTAL_TRIAL):\n",
    "        for round in range(TOTAL_ROUND):\n",
    "            if round == 0:\n",
    "                for client in clients:\n",
    "                    client.synchronize_with_server(server)\n",
    "\n",
    "                participating_clients = server.select_clients(clients, frac=1.0)\n",
    "\n",
    "                for client in participating_clients:\n",
    "                    train_stats = client.compute_weight_update(epochs=1)\n",
    "                    client.reset()\n",
    "\n",
    "                if round + 1 == DETECT_ROUND:\n",
    "                    # generate feature matrix for clustering\n",
    "                    client_dW_dicts = [client.dW for client in clients]\n",
    "                    feature_matrix = generate_feature_matrix(client_dW_dicts)\n",
    "\n",
    "                    # detect adversary using clustering\n",
    "                    detect_adv_idx = server.detect_adversary(feature_matrix, esp, min_samples, metric)\n",
    "\n",
    "                    # update clients by handling adversary detected\n",
    "                    clients = handle_advesary(clients, detect_adv_idx, ADV_HANDLE)\n",
    "\n",
    "                # aggregate weight updates; copy new weights to clients\n",
    "                server.aggregate_weight_updates(clients)\n",
    "                server.copy_weights(clients)\n",
    "                \n",
    "        # evaluate model performance after all the rounds\n",
    "        model_performance[handle][trial] = # evaluation result"
   ]
  },
  {
   "cell_type": "code",
   "execution_count": null,
   "metadata": {},
   "outputs": [],
   "source": [
    "# plots\n",
    "# TODO\n"
   ]
  },
  {
   "cell_type": "markdown",
   "metadata": {},
   "source": [
    "## Experiment B: Convergence Rate\n",
    "Compare model that does handle adversary and model that does NOT handle adversary.\n",
    "\n",
    "Same accuracy -> Different round"
   ]
  },
  {
   "cell_type": "code",
   "execution_count": null,
   "metadata": {},
   "outputs": [],
   "source": [
    "# hyperparemeters\n",
    "TOTAL_TRIAL = 30\n",
    "MAX_ROUND = 50\n",
    "DETECT_ROUND = 5\n",
    "\n",
    "TARGET_ACC = 0.66\n",
    "\n",
    "ESP = 0.5\n",
    "MIN_SAMPLES = 2\n",
    "METRIC = 'l2'\n",
    "\n",
    "ADV_HANDLE = [None, 'remove', 'reg']\n",
    "\n",
    "model_round = defaultdict(lambda: [None] * TOTAL_TRIAL)"
   ]
  },
  {
   "cell_type": "code",
   "execution_count": null,
   "metadata": {},
   "outputs": [],
   "source": [
    "for handle in ADV_HANDLE:\n",
    "    for trial in range(TOTAL_TRIAL):\n",
    "        for round in range(MAX_ROUND):\n",
    "            if round == 0:\n",
    "                for client in clients:\n",
    "                    client.synchronize_with_server(server)\n",
    "\n",
    "                participating_clients = server.select_clients(clients, frac=1.0)\n",
    "\n",
    "                for client in participating_clients:\n",
    "                    train_stats = client.compute_weight_update(epochs=1)\n",
    "                    client.reset()\n",
    "\n",
    "                if round + 1 == DETECT_ROUND:\n",
    "                    # generate feature matrix for clustering\n",
    "                    client_dW_dicts = [client.dW for client in clients]\n",
    "                    feature_matrix = generate_feature_matrix(client_dW_dicts)\n",
    "\n",
    "                    # detect adversary using clustering\n",
    "                    detect_adv_idx = server.detect_adversary(feature_matrix, esp, min_samples, metric)\n",
    "\n",
    "                    # update clients by handling adversary detected\n",
    "                    clients = handle_advesary(clients, detect_adv_idx, ADV_HANDLE)\n",
    "\n",
    "                # aggregate weight updates; copy new weights to clients\n",
    "                server.aggregate_weight_updates(clients)\n",
    "                server.copy_weights(clients)\n",
    "                \n",
    "            # evaluate model performance after each round\n",
    "            model_performance = # evaluation result\n",
    "            if model_performance >= TARGET_ACC:\n",
    "                model_round[handle][trial] = round + 1\n",
    "                break"
   ]
  },
  {
   "cell_type": "code",
   "execution_count": null,
   "metadata": {},
   "outputs": [],
   "source": [
    "# plots\n",
    "# TODO\n"
   ]
  },
  {
   "cell_type": "code",
   "execution_count": null,
   "metadata": {},
   "outputs": [],
   "source": []
  },
  {
   "cell_type": "code",
   "execution_count": null,
   "metadata": {},
   "outputs": [],
   "source": []
  },
  {
   "cell_type": "code",
   "execution_count": null,
   "metadata": {},
   "outputs": [],
   "source": []
  },
  {
   "cell_type": "code",
   "execution_count": null,
   "metadata": {},
   "outputs": [],
   "source": []
  }
 ],
 "metadata": {
  "kernelspec": {
   "display_name": "Python 3",
   "language": "python",
   "name": "python3"
  },
  "language_info": {
   "codemirror_mode": {
    "name": "ipython",
    "version": 3
   },
   "file_extension": ".py",
   "mimetype": "text/x-python",
   "name": "python",
   "nbconvert_exporter": "python",
   "pygments_lexer": "ipython3",
   "version": "3.8.5"
  }
 },
 "nbformat": 4,
 "nbformat_minor": 4
}
